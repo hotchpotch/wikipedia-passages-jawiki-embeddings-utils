{
 "cells": [
  {
   "cell_type": "code",
   "execution_count": 1,
   "metadata": {},
   "outputs": [],
   "source": [
    "from ranx import Run, evaluate, fuse\n",
    "import numpy as np"
   ]
  },
  {
   "cell_type": "code",
   "execution_count": 2,
   "metadata": {},
   "outputs": [],
   "source": [
    "import joblib\n",
    "\n",
    "search_results_with_target = joblib.load(\"../workdir/rerank_ws/search_results.pkl.gz\")\n",
    "# search_results_with_target = joblib.load(\n",
    "#     \"../workdir/rerank_ws/search_results_debug.pkl.gz\"\n",
    "# )"
   ]
  },
  {
   "cell_type": "code",
   "execution_count": 3,
   "metadata": {},
   "outputs": [],
   "source": [
    "target_dataset_name = \"aio_01_test\""
   ]
  },
  {
   "cell_type": "code",
   "execution_count": 4,
   "metadata": {},
   "outputs": [],
   "source": [
    "search_results = search_results_with_target[target_dataset_name]"
   ]
  },
  {
   "cell_type": "code",
   "execution_count": 5,
   "metadata": {},
   "outputs": [
    {
     "data": {
      "text/plain": [
       "3"
      ]
     },
     "execution_count": 5,
     "metadata": {},
     "output_type": "execute_result"
    }
   ],
   "source": [
    "len(search_results)"
   ]
  },
  {
   "cell_type": "code",
   "execution_count": 6,
   "metadata": {},
   "outputs": [
    {
     "data": {
      "text/plain": [
       "(2000, 500)"
      ]
     },
     "execution_count": 6,
     "metadata": {},
     "output_type": "execute_result"
    }
   ],
   "source": [
    "search_results[0][\"indexes\"].shape"
   ]
  },
  {
   "cell_type": "code",
   "execution_count": 7,
   "metadata": {},
   "outputs": [
    {
     "data": {
      "text/plain": [
       "2000"
      ]
     },
     "execution_count": 7,
     "metadata": {},
     "output_type": "execute_result"
    }
   ],
   "source": [
    "jacket_size = search_results[0][\"indexes\"].shape[0]\n",
    "jacket_size"
   ]
  },
  {
   "cell_type": "code",
   "execution_count": 8,
   "metadata": {},
   "outputs": [
    {
     "name": "stdout",
     "output_type": "stream",
     "text": [
      "intfloat/multilingual-e5-large\n",
      "cl-nagoya/sup-simcse-ja-base\n",
      "pkshatech/GLuCoSE-base-ja\n"
     ]
    }
   ],
   "source": [
    "runs = []\n",
    "for search_result in search_results:\n",
    "    name = search_result[\"name\"]\n",
    "    print(name)\n",
    "    scores = search_result[\"scores\"]\n",
    "    # score が高いほど良い、にするために反転\n",
    "    scores = np.abs(search_result[\"scores\"] - 1.0)\n",
    "    indexes = search_result[\"indexes\"]\n",
    "    qids = search_result[\"qids\"]\n",
    "    run_dict = {}\n",
    "    for id, score, index in zip(qids, scores, indexes):\n",
    "        # id = str(id)\n",
    "        # score = score.tolist()\n",
    "        # index = index.tolist()\n",
    "        index_score_dict = {}\n",
    "        for s, pid in zip(score, index):\n",
    "            index_score_dict[str(pid)] = s\n",
    "        run_dict[id] = index_score_dict\n",
    "    run = Run(run_dict, name=name)\n",
    "    runs.append(run)"
   ]
  },
  {
   "cell_type": "code",
   "execution_count": 9,
   "metadata": {},
   "outputs": [],
   "source": [
    "combined_run = fuse(\n",
    "    runs=runs,  # A list of Run instances to fuse\n",
    "    norm=\"min-max\",  # The normalization strategy to apply before fusion\n",
    "    method=\"rrf\",  # The fusion algorithm to use\n",
    ")"
   ]
  },
  {
   "cell_type": "code",
   "execution_count": 10,
   "metadata": {},
   "outputs": [],
   "source": [
    "combined_data = combined_run.to_dict()"
   ]
  },
  {
   "cell_type": "code",
   "execution_count": 11,
   "metadata": {},
   "outputs": [
    {
     "data": {
      "text/plain": [
       "2000"
      ]
     },
     "execution_count": 11,
     "metadata": {},
     "output_type": "execute_result"
    }
   ],
   "source": [
    "len(combined_data)"
   ]
  },
  {
   "cell_type": "code",
   "execution_count": 12,
   "metadata": {},
   "outputs": [
    {
     "data": {
      "text/plain": [
       "0"
      ]
     },
     "execution_count": 12,
     "metadata": {},
     "output_type": "execute_result"
    }
   ],
   "source": [
    "len(combined_data[\"0\"])"
   ]
  },
  {
   "cell_type": "code",
   "execution_count": 13,
   "metadata": {},
   "outputs": [
    {
     "name": "stdout",
     "output_type": "stream",
     "text": [
      "load wikija datasets\n"
     ]
    }
   ],
   "source": [
    "import json\n",
    "import os\n",
    "import re\n",
    "import time\n",
    "import urllib.request\n",
    "from argparse import ArgumentParser\n",
    "from dataclasses import dataclass\n",
    "from functools import lru_cache\n",
    "from pathlib import Path\n",
    "from time import time\n",
    "\n",
    "import faiss\n",
    "import numpy as np\n",
    "import pandas as pd\n",
    "import torch\n",
    "from datasets import load_dataset  # type: ignore\n",
    "from tqdm import tqdm\n",
    "\n",
    "\n",
    "WIKIPEDIA_JA_DS = \"singletongue/wikipedia-utils\"\n",
    "WIKIPEDIA_JS_DS_NAME = \"passages-c400-jawiki-20230403\"\n",
    "WIKIPEDIA_JA_EMB_DS = \"hotchpotch/wikipedia-passages-jawiki-embeddings\"\n",
    "\n",
    "\n",
    "def get_wikija_ds(name: str = WIKIPEDIA_JS_DS_NAME):\n",
    "    ds = load_dataset(path=WIKIPEDIA_JA_DS, name=name, split=\"train\")  # type: ignore\n",
    "    return ds\n",
    "\n",
    "\n",
    "# jaqket v1\n",
    "@dataclass\n",
    "class JaqketQuestionV1:\n",
    "    qid: str\n",
    "    question: str\n",
    "    answer_entity: str\n",
    "    label: int\n",
    "    answer_candidates: list[str]\n",
    "    original_question: str\n",
    "\n",
    "\n",
    "print(\"load wikija datasets\")\n",
    "ds = get_wikija_ds()\n",
    "\n",
    "jaqket_ds = load_dataset(\"hotchpotch/jaqket_cc\")[target_dataset_name]"
   ]
  },
  {
   "cell_type": "code",
   "execution_count": 14,
   "metadata": {},
   "outputs": [],
   "source": [
    "jaqket_ds = jaqket_ds.select(range(jacket_size))"
   ]
  },
  {
   "cell_type": "code",
   "execution_count": 15,
   "metadata": {},
   "outputs": [],
   "source": [
    "found_indexes = []\n",
    "for jaqket in jaqket_ds:\n",
    "    qid = jaqket[\"qid\"]\n",
    "    # print(\"\")\n",
    "    # print(jacket.question)\n",
    "    # print(jacket.answer_entity)\n",
    "    found_index = -1\n",
    "    rank_data = combined_data[qid]\n",
    "    answers = jaqket[\"answers\"]\n",
    "    for rank_idx, (k, v) in enumerate(rank_data.items()):\n",
    "        ds_index = int(k)\n",
    "        target_data = ds[ds_index]\n",
    "        join_text = target_data[\"title\"] + target_data[\"text\"]\n",
    "        for answer in answers:\n",
    "            if answer in join_text:\n",
    "                found_index = rank_idx\n",
    "                break\n",
    "        if found_index != -1:\n",
    "            break\n",
    "    found_indexes.append(found_index)"
   ]
  },
  {
   "cell_type": "code",
   "execution_count": 16,
   "metadata": {},
   "outputs": [
    {
     "name": "stdout",
     "output_type": "stream",
     "text": [
      "14\n"
     ]
    }
   ],
   "source": [
    "# index が -1の要素を数える\n",
    "print(len([i for i in found_indexes if i == -1]))"
   ]
  },
  {
   "cell_type": "code",
   "execution_count": 17,
   "metadata": {},
   "outputs": [
    {
     "data": {
      "image/png": "[encoded data removed]",
      "text/plain": [
       "<Figure size 640x480 with 1 Axes>"
      ]
     },
     "metadata": {},
     "output_type": "display_data"
    }
   ],
   "source": [
    "# plt hist\n",
    "import matplotlib.pyplot as plt\n",
    "\n",
    "plt.hist(found_indexes, bins=100)\n",
    "plt.show()"
   ]
  },
  {
   "cell_type": "code",
   "execution_count": 18,
   "metadata": {},
   "outputs": [
    {
     "data": {
      "text/plain": [
       "count    2000.000000\n",
       "mean        7.724000\n",
       "std        56.697461\n",
       "min        -1.000000\n",
       "10%         0.000000\n",
       "25%         0.000000\n",
       "50%         0.000000\n",
       "75%         2.000000\n",
       "85%         4.000000\n",
       "90%         7.000000\n",
       "max      1393.000000\n",
       "dtype: float64"
      ]
     },
     "execution_count": 18,
     "metadata": {},
     "output_type": "execute_result"
    }
   ],
   "source": [
    "# pd\n",
    "import pandas as pd\n",
    "\n",
    "# percentile\n",
    "\n",
    "pd.Series(found_indexes).describe(percentiles=[0.1, 0.25, 0.5, 0.75, 0.85, 0.9])"
   ]
  },
  {
   "cell_type": "code",
   "execution_count": 19,
   "metadata": {},
   "outputs": [],
   "source": [
    "# ds の正解ラベルを取得\n",
    "\n",
    "acc_labels_dict = {}\n",
    "for jaqket in jaqket_ds:\n",
    "    qid = jaqket[\"qid\"]\n",
    "    answers = jaqket[\"answers\"]\n",
    "    rank_data = combined_data[qid]\n",
    "    acc_labels = {}\n",
    "    for rank_idx, (pid, v) in enumerate(rank_data.items()):\n",
    "        ds_index = int(pid)\n",
    "        target_data = ds[ds_index]\n",
    "        join_text = target_data[\"title\"] + \" \" + target_data[\"text\"]\n",
    "        for answer in answers:\n",
    "            if answer in join_text:\n",
    "                acc_labels[pid] = 1\n",
    "    acc_labels_dict[qid] = acc_labels"
   ]
  },
  {
   "cell_type": "code",
   "execution_count": 20,
   "metadata": {},
   "outputs": [
    {
     "data": {
      "text/plain": [
       "[('60221', 0.7589395046234131),\n",
       " ('5191928', 0.7540072798728943),\n",
       " ('60220', 0.7327320575714111),\n",
       " ('49522', 0.7222505807876587),\n",
       " ('28979', 0.7185056209564209),\n",
       " ('221102', 0.7161310911178589),\n",
       " ('3931012', 0.7156597375869751),\n",
       " ('1953461', 0.7128769159317017),\n",
       " ('56160', 0.7128099203109741),\n",
       " ('298370', 0.7118792533874512)]"
      ]
     },
     "execution_count": 20,
     "metadata": {},
     "output_type": "execute_result"
    }
   ],
   "source": [
    "list(runs[0][\"QA20CAPR-1004\"].items())[0:10]"
   ]
  },
  {
   "cell_type": "code",
   "execution_count": 21,
   "metadata": {},
   "outputs": [
    {
     "data": {
      "text/plain": [
       "[('5191928', 0.6499424576759338),\n",
       " ('60222', 0.6079654693603516),\n",
       " ('60221', 0.6046477556228638),\n",
       " ('1459483', 0.579555332660675),\n",
       " ('1767473', 0.5744842886924744),\n",
       " ('1912169', 0.5723570585250854),\n",
       " ('220168', 0.5538879632949829),\n",
       " ('1953461', 0.5487591028213501),\n",
       " ('57209', 0.5454388856887817),\n",
       " ('2665789', 0.5444353818893433)]"
      ]
     },
     "execution_count": 21,
     "metadata": {},
     "output_type": "execute_result"
    }
   ],
   "source": [
    "list(runs[1][\"QA20CAPR-1004\"].items())[0:10]"
   ]
  },
  {
   "cell_type": "code",
   "execution_count": 22,
   "metadata": {},
   "outputs": [
    {
     "data": {
      "text/plain": [
       "[('2548662', 1),\n",
       " ('4265351', 1),\n",
       " ('4265355', 1),\n",
       " ('3805776', 1),\n",
       " ('4265358', 1),\n",
       " ('3805775', 1),\n",
       " ('3805777', 1),\n",
       " ('4181190', 1),\n",
       " ('4265359', 1),\n",
       " ('4265360', 1)]"
      ]
     },
     "execution_count": 22,
     "metadata": {},
     "output_type": "execute_result"
    }
   ],
   "source": [
    "list(acc_labels_dict[\"QA20CAPR-1002\"].items())[0:10]"
   ]
  },
  {
   "cell_type": "code",
   "execution_count": 23,
   "metadata": {},
   "outputs": [],
   "source": [
    "from ranx import evaluate, Qrels\n",
    "\n",
    "qrels = Qrels(acc_labels_dict)"
   ]
  },
  {
   "cell_type": "code",
   "execution_count": 24,
   "metadata": {},
   "outputs": [
    {
     "data": {
      "text/plain": [
       "0.42149081510092434"
      ]
     },
     "execution_count": 24,
     "metadata": {},
     "output_type": "execute_result"
    }
   ],
   "source": [
    "evaluate(qrels, runs[0], \"ndcg@100\")"
   ]
  },
  {
   "cell_type": "code",
   "execution_count": 25,
   "metadata": {},
   "outputs": [
    {
     "data": {
      "text/plain": [
       "('intfloat/multilingual-e5-large', 0.978)"
      ]
     },
     "execution_count": 25,
     "metadata": {},
     "output_type": "execute_result"
    }
   ],
   "source": [
    "runs[0].name, evaluate(qrels, runs[0], \"hit_rate@100\")"
   ]
  },
  {
   "cell_type": "code",
   "execution_count": 46,
   "metadata": {},
   "outputs": [
    {
     "name": "stdout",
     "output_type": "stream",
     "text": [
      "#    Model                           MAP@10    MRR@10    NDCG@10    NDCG@100    P@10     P@100    Hit Rate@1    Hit Rate@5    Hit Rate@10    Hit Rate@20    Hit Rate@100    Hit Rate@500\n",
      "---  ------------------------------  --------  --------  ---------  ----------  -------  -------  ------------  ------------  -------------  -------------  --------------  --------------\n",
      "a    intfloat/multilingual-e5-large  0.124ᵇᶜ   0.789ᵇᶜ   0.492ᵇᶜ    0.421ᵇᶜ     0.416ᵇᶜ  0.162ᵇᶜ  0.706ᵇᶜ       0.902ᵇᶜ       0.936ᵇᶜ        0.956ᵇᶜ        0.978ᵇᶜ         0.989ᵇᶜ\n",
      "b    cl-nagoya/sup-simcse-ja-base    0.066ᶜ    0.566ᶜ    0.308ᶜ     0.274ᶜ      0.257ᶜ   0.113ᶜ   0.461ᶜ        0.707ᶜ        0.786          0.843          0.927           0.974\n",
      "c    pkshatech/GLuCoSE-base-ja       0.052     0.521     0.269      0.230       0.226    0.093    0.410         0.676         0.767          0.833          0.927           0.974\n"
     ]
    }
   ],
   "source": [
    "from ranx import compare\n",
    "\n",
    "# Compare different runs and perform statistical tests\n",
    "report = compare(\n",
    "    qrels=qrels,\n",
    "    runs=runs,\n",
    "    metrics=[\n",
    "        #         \"map@10\",\n",
    "        \"map@10\",\n",
    "        \"mrr@10\",\n",
    "        \"ndcg@10\",\n",
    "        \"ndcg@100\",\n",
    "        \"precision@10\",\n",
    "        \"precision@100\",\n",
    "        \"hit_rate@1\",\n",
    "        \"hit_rate@5\",\n",
    "        \"hit_rate@10\",\n",
    "        \"hit_rate@20\",\n",
    "        #        \"hit_rate@50\",\n",
    "        \"hit_rate@100\",\n",
    "        \"hit_rate@500\",\n",
    "    ],\n",
    "    max_p=0.01,  # P-value threshold\n",
    ")\n",
    "print(report.to_table())"
   ]
  },
  {
   "cell_type": "code",
   "execution_count": 47,
   "metadata": {},
   "outputs": [
    {
     "data": {
      "application/vnd.jupyter.widget-view+json": {
       "model_id": "23baab7db25e4081bbf4ec705b7e0d0f",
       "version_major": 2,
       "version_minor": 0
      },
      "text/plain": [
       "Output()"
      ]
     },
     "metadata": {},
     "output_type": "display_data"
    },
    {
     "data": {
      "text/html": [
       "<pre style=\"white-space:pre;overflow-x:auto;line-height:normal;font-family:Menlo,'DejaVu Sans Mono',consolas,'Courier New',monospace\"></pre>\n"
      ],
      "text/plain": []
     },
     "metadata": {},
     "output_type": "display_data"
    },
    {
     "data": {
      "text/html": [
       "<pre style=\"white-space:pre;overflow-x:auto;line-height:normal;font-family:Menlo,'DejaVu Sans Mono',consolas,'Courier New',monospace\">\n",
       "</pre>\n"
      ],
      "text/plain": [
       "\n"
      ]
     },
     "metadata": {},
     "output_type": "display_data"
    },
    {
     "name": "stdout",
     "output_type": "stream",
     "text": [
      "weighted_sum 0.16657999999999998\n"
     ]
    }
   ],
   "source": [
    "from ranx import fuse, evaluate, optimize_fusion\n",
    "\n",
    "target_metric = \"precision@100\"\n",
    "# Optimize a given fusion method\n",
    "best_params = optimize_fusion(\n",
    "    qrels=qrels,\n",
    "    runs=runs,\n",
    "    norm=\"min-max\",  # Default value\n",
    "    method=\"wsum\",  # Alias for Weighted Sum\n",
    "    metric=target_metric,  # Metric we want to maximize\n",
    ")\n",
    "\n",
    "combined_run = fuse(\n",
    "    runs=runs,\n",
    "    norm=\"min-max\",  # Default value\n",
    "    method=\"wsum\",  # Alias for Weighted Sum\n",
    "    params=best_params,\n",
    ")\n",
    "\n",
    "print(combined_run.name, evaluate(qrels, combined_run, target_metric))"
   ]
  },
  {
   "cell_type": "code",
   "execution_count": 48,
   "metadata": {},
   "outputs": [
    {
     "data": {
      "text/plain": [
       "''"
      ]
     },
     "execution_count": 48,
     "metadata": {},
     "output_type": "execute_result"
    }
   ],
   "source": [
    "# combined_run.keys()[\"0\"]\n",
    "\"\""
   ]
  },
  {
   "cell_type": "code",
   "execution_count": 49,
   "metadata": {},
   "outputs": [
    {
     "name": "stdout",
     "output_type": "stream",
     "text": [
      "#    Model           MAP@10    MRR@10    NDCG@10    NDCG@100    P@10    P@100    Hit Rate@1    Hit Rate@5    Hit Rate@10    Hit Rate@20    Hit Rate@100    Hit Rate@500\n",
      "---  ------------  --------  --------  ---------  ----------  ------  -------  ------------  ------------  -------------  -------------  --------------  --------------\n",
      "a    weighted_sum     0.129     0.794      0.502       0.433   0.423    0.167          0.71         0.909          0.938          0.959           0.979            0.99\n"
     ]
    }
   ],
   "source": [
    "from ranx import compare\n",
    "\n",
    "# Compare different runs and perform statistical tests\n",
    "report = compare(\n",
    "    qrels=qrels,\n",
    "    runs=[combined_run],\n",
    "    metrics=[\n",
    "        #         \"map@10\",\n",
    "        \"map@10\",\n",
    "        \"mrr@10\",\n",
    "        \"ndcg@10\",\n",
    "        \"ndcg@100\",\n",
    "        \"precision@10\",\n",
    "        \"precision@100\",\n",
    "        \"hit_rate@1\",\n",
    "        \"hit_rate@5\",\n",
    "        \"hit_rate@10\",\n",
    "        \"hit_rate@20\",\n",
    "        #        \"hit_rate@50\",\n",
    "        \"hit_rate@100\",\n",
    "        \"hit_rate@500\",\n",
    "    ],\n",
    "    max_p=0.01,  # P-value threshold\n",
    ")\n",
    "print(report.to_table())"
   ]
  },
  {
   "cell_type": "code",
   "execution_count": 50,
   "metadata": {},
   "outputs": [],
   "source": [
    "combined_data = combined_run.to_dict()"
   ]
  },
  {
   "cell_type": "code",
   "execution_count": 51,
   "metadata": {},
   "outputs": [],
   "source": [
    "combined_keys = list(combined_data.keys())  # [0:10]"
   ]
  },
  {
   "cell_type": "code",
   "execution_count": 52,
   "metadata": {},
   "outputs": [],
   "source": [
    "jaqket_dict = {}\n",
    "for jaqket in jaqket_ds:\n",
    "    qid = jaqket[\"qid\"]\n",
    "    jaqket_dict[qid] = jaqket"
   ]
  },
  {
   "cell_type": "code",
   "execution_count": 53,
   "metadata": {},
   "outputs": [],
   "source": [
    "qrels_dict = {}\n",
    "for key in combined_keys:\n",
    "    data = combined_data[key]\n",
    "    jaqket = jaqket_dict[key]\n",
    "    qid = jaqket[\"qid\"]\n",
    "    question = jaqket[\"question\"]\n",
    "    answers = jaqket[\"answers\"]\n",
    "    # print(\"-------\")\n",
    "    # print(question)\n",
    "    # print(answers)\n",
    "    results = {}\n",
    "    for k, v in list(data.items())[0:100]:\n",
    "        jid = str(k)\n",
    "        d = ds[int(k)]\n",
    "        title = d[\"title\"]\n",
    "        text = title + \" \" + d[\"text\"]\n",
    "        label = 0\n",
    "        for answer in answers:\n",
    "            if answer in text:\n",
    "                label = 1\n",
    "        if label == 1:\n",
    "            results[jid] = label\n",
    "    qrels_dict[qid] = results"
   ]
  },
  {
   "cell_type": "code",
   "execution_count": 54,
   "metadata": {},
   "outputs": [
    {
     "data": {
      "text/plain": [
       "2000"
      ]
     },
     "execution_count": 54,
     "metadata": {},
     "output_type": "execute_result"
    }
   ],
   "source": [
    "len(qrels_dict)"
   ]
  },
  {
   "cell_type": "code",
   "execution_count": 55,
   "metadata": {},
   "outputs": [],
   "source": [
    "qrels_2 = Qrels(qrels_dict)"
   ]
  },
  {
   "cell_type": "code",
   "execution_count": 56,
   "metadata": {},
   "outputs": [],
   "source": [
    "# combined_run.__class__\n",
    "# acc_labels_dict"
   ]
  },
  {
   "cell_type": "code",
   "execution_count": 57,
   "metadata": {},
   "outputs": [],
   "source": [
    "# qrels_dict"
   ]
  },
  {
   "cell_type": "code",
   "execution_count": 59,
   "metadata": {},
   "outputs": [
    {
     "data": {
      "text/plain": [
       "0.9785"
      ]
     },
     "execution_count": 59,
     "metadata": {},
     "output_type": "execute_result"
    }
   ],
   "source": [
    "evaluate(qrels_2, combined_run, \"hit_rate@100\", make_comparable=True)"
   ]
  }
 ],
 "metadata": {
  "kernelspec": {
   "display_name": "py310",
   "language": "python",
   "name": "python3"
  },
  "language_info": {
   "codemirror_mode": {
    "name": "ipython",
    "version": 3
   },
   "file_extension": ".py",
   "mimetype": "text/x-python",
   "name": "python",
   "nbconvert_exporter": "python",
   "pygments_lexer": "ipython3",
   "version": "3.10.13"
  }
 },
 "nbformat": 4,
 "nbformat_minor": 2
}
