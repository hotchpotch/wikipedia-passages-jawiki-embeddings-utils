{
 "cells": [
  {
   "cell_type": "code",
   "execution_count": 54,
   "metadata": {},
   "outputs": [],
   "source": [
    "from ranx import Run, evaluate, fuse\n",
    "import numpy as np"
   ]
  },
  {
   "cell_type": "code",
   "execution_count": 55,
   "metadata": {},
   "outputs": [],
   "source": [
    "import joblib\n",
    "\n",
    "search_results = joblib.load(\"../workdir/rerank_ws/search_results.pkl.gz\")\n",
    "# search_results_with_target = joblib.load(\n",
    "#     \"../workdir/rerank_ws/search_results_debug.pkl.gz\"\n",
    "# )"
   ]
  },
  {
   "cell_type": "code",
   "execution_count": 56,
   "metadata": {},
   "outputs": [],
   "source": [
    "target_dataset_name = \"aio_01_test\""
   ]
  },
  {
   "cell_type": "code",
   "execution_count": 57,
   "metadata": {},
   "outputs": [],
   "source": [
    "search_results = search_results_with_target[target_dataset_name]"
   ]
  },
  {
   "cell_type": "code",
   "execution_count": 58,
   "metadata": {},
   "outputs": [
    {
     "data": {
      "text/plain": [
       "3"
      ]
     },
     "execution_count": 58,
     "metadata": {},
     "output_type": "execute_result"
    }
   ],
   "source": [
    "len(search_results)"
   ]
  },
  {
   "cell_type": "code",
   "execution_count": 59,
   "metadata": {},
   "outputs": [
    {
     "data": {
      "text/plain": [
       "(30, 500)"
      ]
     },
     "execution_count": 59,
     "metadata": {},
     "output_type": "execute_result"
    }
   ],
   "source": [
    "search_results[0][\"indexes\"].shape"
   ]
  },
  {
   "cell_type": "code",
   "execution_count": 60,
   "metadata": {},
   "outputs": [
    {
     "data": {
      "text/plain": [
       "30"
      ]
     },
     "execution_count": 60,
     "metadata": {},
     "output_type": "execute_result"
    }
   ],
   "source": [
    "jacket_size = search_results[0][\"indexes\"].shape[0]\n",
    "jacket_size"
   ]
  },
  {
   "cell_type": "code",
   "execution_count": 61,
   "metadata": {},
   "outputs": [
    {
     "name": "stdout",
     "output_type": "stream",
     "text": [
      "[debug]intfloat/multilingual-e5-large\n",
      "[debug]cl-nagoya/sup-simcse-ja-base\n",
      "[debug]pkshatech/GLuCoSE-base-ja\n"
     ]
    }
   ],
   "source": [
    "runs = []\n",
    "for search_result in search_results:\n",
    "    name = search_result[\"name\"]\n",
    "    print(name)\n",
    "    scores = search_result[\"scores\"]\n",
    "    # score が高いほど良い、にするために反転\n",
    "    scores = np.abs(search_result[\"scores\"] - 1.0)\n",
    "    indexes = search_result[\"indexes\"]\n",
    "    qids = search_result[\"qids\"]\n",
    "    run_dict = {}\n",
    "    for id, score, index in zip(qids, scores, indexes):\n",
    "        # id = str(id)\n",
    "        # score = score.tolist()\n",
    "        # index = index.tolist()\n",
    "        index_score_dict = {}\n",
    "        for s, pid in zip(score, index):\n",
    "            index_score_dict[str(pid)] = s\n",
    "        run_dict[id] = index_score_dict\n",
    "    run = Run(run_dict, name=name)\n",
    "    runs.append(run)"
   ]
  },
  {
   "cell_type": "code",
   "execution_count": 62,
   "metadata": {},
   "outputs": [],
   "source": [
    "combined_run = fuse(\n",
    "    runs=runs,  # A list of Run instances to fuse\n",
    "    norm=\"min-max\",  # The normalization strategy to apply before fusion\n",
    "    method=\"rrf\",  # The fusion algorithm to use\n",
    ")"
   ]
  },
  {
   "cell_type": "code",
   "execution_count": 63,
   "metadata": {},
   "outputs": [],
   "source": [
    "combined_data = combined_run.to_dict()"
   ]
  },
  {
   "cell_type": "code",
   "execution_count": 64,
   "metadata": {},
   "outputs": [
    {
     "data": {
      "text/plain": [
       "30"
      ]
     },
     "execution_count": 64,
     "metadata": {},
     "output_type": "execute_result"
    }
   ],
   "source": [
    "len(combined_data)"
   ]
  },
  {
   "cell_type": "code",
   "execution_count": 65,
   "metadata": {},
   "outputs": [
    {
     "data": {
      "text/plain": [
       "0"
      ]
     },
     "execution_count": 65,
     "metadata": {},
     "output_type": "execute_result"
    }
   ],
   "source": [
    "len(combined_data[\"0\"])"
   ]
  },
  {
   "cell_type": "code",
   "execution_count": 66,
   "metadata": {},
   "outputs": [
    {
     "name": "stdout",
     "output_type": "stream",
     "text": [
      "load wikija datasets\n"
     ]
    }
   ],
   "source": [
    "import json\n",
    "import os\n",
    "import re\n",
    "import time\n",
    "import urllib.request\n",
    "from argparse import ArgumentParser\n",
    "from dataclasses import dataclass\n",
    "from functools import lru_cache\n",
    "from pathlib import Path\n",
    "from time import time\n",
    "\n",
    "import faiss\n",
    "import numpy as np\n",
    "import pandas as pd\n",
    "import torch\n",
    "from datasets import load_dataset  # type: ignore\n",
    "from tqdm import tqdm\n",
    "\n",
    "\n",
    "WIKIPEDIA_JA_DS = \"singletongue/wikipedia-utils\"\n",
    "WIKIPEDIA_JS_DS_NAME = \"passages-c400-jawiki-20230403\"\n",
    "WIKIPEDIA_JA_EMB_DS = \"hotchpotch/wikipedia-passages-jawiki-embeddings\"\n",
    "\n",
    "\n",
    "def get_wikija_ds(name: str = WIKIPEDIA_JS_DS_NAME):\n",
    "    ds = load_dataset(path=WIKIPEDIA_JA_DS, name=name, split=\"train\")  # type: ignore\n",
    "    return ds\n",
    "\n",
    "\n",
    "# jaqket v1\n",
    "@dataclass\n",
    "class JaqketQuestionV1:\n",
    "    qid: str\n",
    "    question: str\n",
    "    answer_entity: str\n",
    "    label: int\n",
    "    answer_candidates: list[str]\n",
    "    original_question: str\n",
    "\n",
    "\n",
    "print(\"load wikija datasets\")\n",
    "ds = get_wikija_ds()\n",
    "\n",
    "jaqket_ds = load_dataset(\"hotchpotch/jaqket_cc\")[target_dataset_name]"
   ]
  },
  {
   "cell_type": "code",
   "execution_count": 67,
   "metadata": {},
   "outputs": [],
   "source": [
    "jaqket_ds = jaqket_ds.select(range(jacket_size))"
   ]
  },
  {
   "cell_type": "code",
   "execution_count": 68,
   "metadata": {},
   "outputs": [],
   "source": [
    "found_indexes = []\n",
    "for jaqket in jaqket_ds:\n",
    "    qid = jaqket[\"qid\"]\n",
    "    # print(\"\")\n",
    "    # print(jacket.question)\n",
    "    # print(jacket.answer_entity)\n",
    "    found_index = -1\n",
    "    rank_data = combined_data[qid]\n",
    "    answers = jaqket[\"answers\"]\n",
    "    for rank_idx, (k, v) in enumerate(rank_data.items()):\n",
    "        ds_index = int(k)\n",
    "        target_data = ds[ds_index]\n",
    "        join_text = target_data[\"title\"] + target_data[\"text\"]\n",
    "        for answer in answers:\n",
    "            if answer in join_text:\n",
    "                found_index = rank_idx\n",
    "                break\n",
    "        if found_index != -1:\n",
    "            break\n",
    "    found_indexes.append(found_index)"
   ]
  },
  {
   "cell_type": "code",
   "execution_count": 69,
   "metadata": {},
   "outputs": [
    {
     "name": "stdout",
     "output_type": "stream",
     "text": [
      "0\n"
     ]
    }
   ],
   "source": [
    "# index が -1の要素を数える\n",
    "print(len([i for i in found_indexes if i == -1]))"
   ]
  },
  {
   "cell_type": "code",
   "execution_count": 70,
   "metadata": {},
   "outputs": [
    {
     "data": {
      "image/png": "[encoded data removed]",
      "text/plain": [
       "<Figure size 640x480 with 1 Axes>"
      ]
     },
     "metadata": {},
     "output_type": "display_data"
    }
   ],
   "source": [
    "# plt hist\n",
    "import matplotlib.pyplot as plt\n",
    "\n",
    "plt.hist(found_indexes, bins=100)\n",
    "plt.show()"
   ]
  },
  {
   "cell_type": "code",
   "execution_count": 71,
   "metadata": {},
   "outputs": [
    {
     "data": {
      "text/plain": [
       "count     30.000000\n",
       "mean      12.966667\n",
       "std       51.029054\n",
       "min        0.000000\n",
       "10%        0.000000\n",
       "25%        0.000000\n",
       "50%        0.000000\n",
       "75%        2.750000\n",
       "85%        6.000000\n",
       "90%        7.500000\n",
       "max      274.000000\n",
       "dtype: float64"
      ]
     },
     "execution_count": 71,
     "metadata": {},
     "output_type": "execute_result"
    }
   ],
   "source": [
    "# pd\n",
    "import pandas as pd\n",
    "\n",
    "# percentile\n",
    "\n",
    "pd.Series(found_indexes).describe(percentiles=[0.1, 0.25, 0.5, 0.75, 0.85, 0.9])"
   ]
  },
  {
   "cell_type": "code",
   "execution_count": 72,
   "metadata": {},
   "outputs": [],
   "source": [
    "# ds の正解ラベルを取得\n",
    "\n",
    "acc_labels_dict = {}\n",
    "for jaqket in jaqket_ds:\n",
    "    qid = jaqket[\"qid\"]\n",
    "    answers = jaqket[\"answers\"]\n",
    "    rank_data = combined_data[qid]\n",
    "    acc_labels = {}\n",
    "    for rank_idx, (pid, v) in enumerate(rank_data.items()):\n",
    "        ds_index = int(pid)\n",
    "        target_data = ds[ds_index]\n",
    "        join_text = target_data[\"title\"] + \" \" + target_data[\"text\"]\n",
    "        for answer in answers:\n",
    "            if answer in join_text:\n",
    "                acc_labels[pid] = 1\n",
    "    acc_labels_dict[qid] = acc_labels"
   ]
  },
  {
   "cell_type": "code",
   "execution_count": 123,
   "metadata": {},
   "outputs": [
    {
     "data": {
      "text/plain": [
       "[('60221', 0.7589395046234131),\n",
       " ('5191928', 0.7540078163146973),\n",
       " ('60220', 0.7327320575714111),\n",
       " ('49522', 0.7222506999969482),\n",
       " ('28979', 0.7185060977935791),\n",
       " ('221102', 0.7161307334899902),\n",
       " ('3931012', 0.7156599760055542),\n",
       " ('1953461', 0.7128769159317017),\n",
       " ('56160', 0.7128103375434875),\n",
       " ('298370', 0.7118793725967407)]"
      ]
     },
     "execution_count": 123,
     "metadata": {},
     "output_type": "execute_result"
    }
   ],
   "source": [
    "list(runs[0][\"QA20CAPR-1004\"].items())[0:10]"
   ]
  },
  {
   "cell_type": "code",
   "execution_count": 124,
   "metadata": {},
   "outputs": [
    {
     "data": {
      "text/plain": [
       "[('5191928', 0.6499422788619995),\n",
       " ('60222', 0.6079652309417725),\n",
       " ('60221', 0.6046475768089294),\n",
       " ('1459483', 0.5795551538467407),\n",
       " ('1767473', 0.5744842290878296),\n",
       " ('1912169', 0.5723568797111511),\n",
       " ('220168', 0.5538877248764038),\n",
       " ('1953461', 0.5487590432167053),\n",
       " ('57209', 0.5454387664794922),\n",
       " ('2665789', 0.5444352030754089)]"
      ]
     },
     "execution_count": 124,
     "metadata": {},
     "output_type": "execute_result"
    }
   ],
   "source": [
    "list(runs[1][\"QA20CAPR-1004\"].items())[0:10]"
   ]
  },
  {
   "cell_type": "code",
   "execution_count": 74,
   "metadata": {},
   "outputs": [
    {
     "data": {
      "text/plain": [
       "[('2548662', 1),\n",
       " ('4265351', 1),\n",
       " ('4265355', 1),\n",
       " ('3805776', 1),\n",
       " ('4265358', 1),\n",
       " ('3805775', 1),\n",
       " ('3805777', 1),\n",
       " ('4181190', 1),\n",
       " ('4265359', 1),\n",
       " ('4265360', 1)]"
      ]
     },
     "execution_count": 74,
     "metadata": {},
     "output_type": "execute_result"
    }
   ],
   "source": [
    "list(acc_labels_dict[\"QA20CAPR-1002\"].items())[0:10]"
   ]
  },
  {
   "cell_type": "code",
   "execution_count": 75,
   "metadata": {},
   "outputs": [],
   "source": [
    "from ranx import evaluate, Qrels\n",
    "\n",
    "qrels = Qrels(acc_labels_dict)"
   ]
  },
  {
   "cell_type": "code",
   "execution_count": 76,
   "metadata": {},
   "outputs": [
    {
     "data": {
      "text/plain": [
       "0.41963656167442814"
      ]
     },
     "execution_count": 76,
     "metadata": {},
     "output_type": "execute_result"
    }
   ],
   "source": [
    "evaluate(qrels, runs[0], \"ndcg@100\")"
   ]
  },
  {
   "cell_type": "code",
   "execution_count": 77,
   "metadata": {},
   "outputs": [
    {
     "data": {
      "text/plain": [
       "('[debug]intfloat/multilingual-e5-large', 0.9666666666666667)"
      ]
     },
     "execution_count": 77,
     "metadata": {},
     "output_type": "execute_result"
    }
   ],
   "source": [
    "runs[0].name, evaluate(qrels, runs[0], \"hit_rate@100\")"
   ]
  },
  {
   "cell_type": "code",
   "execution_count": 106,
   "metadata": {},
   "outputs": [
    {
     "name": "stdout",
     "output_type": "stream",
     "text": [
      "#    Model                                  MAP@10      MRR@10  NDCG@10    NDCG@100      Hit Rate@1  Hit Rate@5      Hit Rate@10    Hit Rate@20    Hit Rate@100    Hit Rate@500\n",
      "---  -------------------------------------  --------  --------  ---------  ----------  ------------  ------------  -------------  -------------  --------------  --------------\n",
      "a    [debug]intfloat/multilingual-e5-large  0.099ᵇ       0.719  0.502ᵇᶜ    0.420ᵇᶜ            0.6    0.933ᵇᶜ               0.933          0.933           0.967           0.967\n",
      "b    [debug]cl-nagoya/sup-simcse-ja-base    0.049        0.624  0.345      0.269              0.567  0.667                 0.767          0.767           0.833           1\n",
      "c    [debug]pkshatech/GLuCoSE-base-ja       0.044        0.557  0.315      0.220              0.467  0.667                 0.767          0.8             0.933           1\n"
     ]
    }
   ],
   "source": [
    "from ranx import compare\n",
    "\n",
    "# Compare different runs and perform statistical tests\n",
    "report = compare(\n",
    "    qrels=qrels,\n",
    "    runs=runs,\n",
    "    metrics=[\n",
    "        #         \"map@10\",\n",
    "        \"map@10\",\n",
    "        \"mrr@10\",\n",
    "        \"ndcg@10\",\n",
    "        \"ndcg@100\",\n",
    "        \"hit_rate@1\",\n",
    "        \"hit_rate@5\",\n",
    "        \"hit_rate@10\",\n",
    "        \"hit_rate@20\",\n",
    "        #        \"hit_rate@50\",\n",
    "        \"hit_rate@100\",\n",
    "        \"hit_rate@500\",\n",
    "    ],\n",
    "    max_p=0.01,  # P-value threshold\n",
    ")\n",
    "print(report.to_table())"
   ]
  },
  {
   "cell_type": "code",
   "execution_count": 127,
   "metadata": {},
   "outputs": [
    {
     "data": {
      "application/vnd.jupyter.widget-view+json": {
       "model_id": "341b796caf6042f5a08a9a142caf3dd4",
       "version_major": 2,
       "version_minor": 0
      },
      "text/plain": [
       "Output()"
      ]
     },
     "metadata": {},
     "output_type": "display_data"
    },
    {
     "data": {
      "text/html": [
       "<pre style=\"white-space:pre;overflow-x:auto;line-height:normal;font-family:Menlo,'DejaVu Sans Mono',consolas,'Courier New',monospace\"></pre>\n"
      ],
      "text/plain": []
     },
     "metadata": {},
     "output_type": "display_data"
    },
    {
     "data": {
      "text/html": [
       "<pre style=\"white-space:pre;overflow-x:auto;line-height:normal;font-family:Menlo,'DejaVu Sans Mono',consolas,'Courier New',monospace\">\n",
       "</pre>\n"
      ],
      "text/plain": [
       "\n"
      ]
     },
     "metadata": {},
     "output_type": "display_data"
    },
    {
     "name": "stdout",
     "output_type": "stream",
     "text": [
      "weighted_sum 0.43931019882427574\n"
     ]
    }
   ],
   "source": [
    "from ranx import fuse, evaluate, optimize_fusion\n",
    "\n",
    "\n",
    "# Optimize a given fusion method\n",
    "best_params = optimize_fusion(\n",
    "    qrels=qrels,\n",
    "    runs=runs,\n",
    "    norm=\"min-max\",  # Default value\n",
    "    method=\"wsum\",  # Alias for Weighted Sum\n",
    "    metric=\"ndcg@100\",  # Metric we want to maximize\n",
    ")\n",
    "\n",
    "combined_run = fuse(\n",
    "    runs=runs,\n",
    "    norm=\"min-max\",  # Default value\n",
    "    method=\"wsum\",  # Alias for Weighted Sum\n",
    "    params=best_params,\n",
    ")\n",
    "\n",
    "print(combined_run.name, evaluate(qrels, combined_run, \"ndcg@100\"))"
   ]
  },
  {
   "cell_type": "code",
   "execution_count": 128,
   "metadata": {},
   "outputs": [
    {
     "data": {
      "text/plain": [
       "''"
      ]
     },
     "execution_count": 128,
     "metadata": {},
     "output_type": "execute_result"
    }
   ],
   "source": [
    "# combined_run.keys()[\"0\"]\n",
    "\"\""
   ]
  },
  {
   "cell_type": "code",
   "execution_count": 129,
   "metadata": {},
   "outputs": [
    {
     "name": "stdout",
     "output_type": "stream",
     "text": [
      "weighted_sum 0.9666666666666667\n"
     ]
    }
   ],
   "source": [
    "print(combined_run.name, evaluate(qrels, combined_run, \"ndcg@100\"))"
   ]
  },
  {
   "cell_type": "code",
   "execution_count": 130,
   "metadata": {},
   "outputs": [],
   "source": [
    "combined_data = combined_run.to_dict()"
   ]
  },
  {
   "cell_type": "code",
   "execution_count": 131,
   "metadata": {},
   "outputs": [],
   "source": [
    "combined_keys = list(combined_data.keys())[0:10]"
   ]
  },
  {
   "cell_type": "code",
   "execution_count": 132,
   "metadata": {},
   "outputs": [],
   "source": [
    "jaqket_dict = {}\n",
    "for jaqket in jaqket_ds:\n",
    "    qid = jaqket[\"qid\"]\n",
    "    jaqket_dict[qid] = jaqket"
   ]
  },
  {
   "cell_type": "code",
   "execution_count": 133,
   "metadata": {},
   "outputs": [
    {
     "name": "stdout",
     "output_type": "stream",
     "text": [
      "-------\n",
      "「課長」こと有野晋哉が様々なレトロゲームをクリアしていくという内容の、CS放送の人気番組は何でしょう?\n",
      "['ゲームセンターCX']\n",
      "ゲームセンターCX 有野の挑戦 「有野の挑戦」は、『ゲームセンターCX』におけるメイン企画コーナーである。毎回、1985年から2000年のテレビゲーム(レトロゲーム)をクリアするために、有野課長(有野晋哉)が悪戦苦闘しながらプレイし、アシスタントディレクター(AD)ら番組スタッフ達と協力しながらエンディングを目指す、ドキュメンタリー形式のバラエティー企画となっている。第22シーズンまでの通算成績。215勝73敗3分2持ち越し1保留。総挑戦時間3125時間47分(生放送・DVD・ニンテンドー含む)、平均挑戦時間約10時間37分。なお、第22シーズン終了時点における連勝の最多記録は、第19、20シーズン跨ぎでの11連勝(1シーズン単位では第20シーズンでの10連勝)。最多連敗は第4、6、17シーズンでの4連敗となっている。ただし1998年に発売したソフトは第276回時点で、一度も挑戦失敗していない。\n",
      "ゲームセンターCX お笑いコンビ「よゐこ」の有野晋哉が扮する当番組のメインパーソナリティ。架空の企業である「株式会社ゲームセンターCX興業」の社員で、番組開始時は主任で始まり、その後課長代理を経て、現在は課長という番組設定である(海外版はシリーズ通して「KACHO」で統一)。課長の主な仕事は、助っ人のアシスタントディレクターらと協力しながら「テレビゲーム」をプレイして、エンディングを見ることである(場合によってはお題クリアのみもある)。ゲームの腕は初心者に毛が生えた程度であり、テクニック不足や凡ミスも多い。特に瞬発力を要するシューティング・格闘ACTのようなジャンルは鬼門のようである。ただ、パズル系のような頭を使うものは得意のようで先の先を読んだプレイや閃きが冴える場面が多いが、有野が得意とするパズルのジャンル内でも落ちもの系パズルや反射神経を要するものは苦手の様子(『ぷよぷよ』・『コラムス』など)。\n",
      "ゲームセンターCX 昔懐かしいコンピュータゲーム(レトロゲーム)に焦点を当て、毎回異なるゲームソフトにお笑いタレントのよゐこの有野晋哉が挑戦し、13時間前後の収録時間内に完全クリアしてエンディング画面を目指す「有野の挑戦」をメインコーナーにしたゲームバラエティ番組である。その他、ゲームクリエイターにインタビューしてゲーム製作の裏側に迫る「クリエイターインタビュー」や、ゲームセンターや駄菓子屋に行って遊ぶ「たまに行くならこんなゲームセンター」などのサブコーナーなどもある。放送開始した第1シーズンでは、ゲームクリエイターのインタビューをメインに、「有野の挑戦」はサブ枠だった。第2シーズン以降からは「有野の挑戦」をメインとしてリニューアルされる。第17シーズンの2013年11月7日の放送で、番組の放送10周年を迎えた。第21シーズンの2017年12月7日の放送で、番組の放送回数が250回を迎えた。\n",
      "-------\n",
      "摂氏ではマイナス273.15度にあたる、全ての原子の振動が停止する最も低い温度を何というでしょう?\n",
      "['絶対零度']\n",
      "絶対零度 温度は、物質の熱振動をもとにして規定されているので、下限が存在する。それは、熱振動(原子の振動)が小さくなり、エネルギーが最低になった状態である。この時に決まる下限温度が絶対零度である。古典力学では、エネルギーが最低の状態とは、原子の振動が完全に止まった状態である。ただし量子力学では、不確定性原理のため、原子の振動が止まることはなく、エネルギーが最低の状態でも零点振動をしている。熱力学第三法則によれば、ある温度(0 Kよりも大きい温度)をもった物質を、有限回の操作で絶対零度に移行させることはできない。絶対零度に近い極低温では、より温度の高い状態では見られない現象がいくつか知られる。それらを扱う分野を低温物理学という。理想気体においては、状態方程式により0Kで圧力または体積が0となる。\n",
      "絶対零度 (曖昧さ回避) 絶対零度(ぜったいれいど、アブソリュートゼロ、英: Absolute zero)は、熱力学上の最低温度である摂氏−273.15度。\n",
      "絶対零度 絶対零度(ぜったいれいど、Absolute zero)は、絶対温度の下限で、理想気体のエントロピーとエンタルピーが最低値になった状態、つまり 0 Kを表す。セルシウス度(摂氏)で −273.15 °C、ファーレンハイト度(華氏)で −459.67 °Fである。絶対零度は最低温度とされるが、エンタルピーは0にはならない。統計力学では0 K未満の負温度が存在する。\n",
      "-------\n",
      "『傘を持たない蟻たちは』『ピンクとグレー』などの小説を書いた、アイドルグループNEWSのメンバーは誰でしょう?\n",
      "['加藤シゲアキ']\n",
      "傘をもたない蟻たちは 『傘をもたない蟻たちは』(かさをもたないありたちは)は、加藤シゲアキによる日本の小説の短編集。\n",
      "-------\n",
      "詳しい原因は不明だが、脳の酸素不足ではないかといわれている、眠たい時についつい出てしまう生理現象といえば何でしょう?\n",
      "['あくび']\n",
      "-------\n",
      "浜田雅功と松本人志のふたりからなる、人気お笑いコンビは何でしょう?\n",
      "['ダウンタウン']\n",
      "ダウンタウン (お笑いコンビ) ダウンタウン(DOWNTOWN)は、吉本興業に所属する浜田雅功と松本人志からなる日本のお笑いコンビ。NSC大阪校1期出身。浜田と松本のいずれも兵庫県出身。\n",
      "浜田雅功 浜田 雅功(はまだ まさとし、1963年〈昭和38年〉5月11日 - )は、日本のお笑いタレント、漫才師、歌手、俳優、司会者。大阪府大阪市浪速区生まれ、兵庫県尼崎市育ち。お笑いコンビ・ダウンタウンのツッコミ担当。相方は松本人志。愛称は浜ちゃん(はまちゃん)。妻は小川菜摘。長男はOKAMOTO'Sのメンバーでベーシストのハマ・オカモト。\n",
      "松本人志 松本 人志(まつもと ひとし/1963年〈昭和38年〉9月8日 - )は、日本のお笑いタレント・漫才師・司会者・俳優・映画監督・作家・コメンテーター。兵庫県尼崎市出身。お笑いコンビ・ダウンタウンのボケ・ネタ作り担当。相方は浜田雅功。愛称は松っちゃん(まっちゃん)。妻は元タレントの伊原凛。吉本興業東京本部所属。(ペンや箸を持つ時は)左利き。\n",
      "-------\n",
      "ギリシャ語で「板」という意味の「サンダリオン」に由来する、夏によく見かける履物は何でしょう?\n",
      "['サンダル']\n",
      "サンダル 西欧語におけるサンダルの語源は、中世後期に遡る。ギリシア語の \"sandalion\" から、ラテン語を経て、英語・ドイツ語・フランス語などへ入ったと考えられる。なお、当時の西洋における木靴との対比から生じたものであると考えられている。サンダルの語源は古代アジア(古代オリエント)起源だろうと考えられている。\n",
      "サンダル 現代でも利用される革紐を組み合わせた履物としては、ギリシア人(ミュール)やローマ人(カリガ)、さらに遡れば、古代オリエント文明や先コロンブス期のメキシコ(フアラチ)発祥と考えられる。なお、似たような履物は温暖な気候をしている地域では、よく見られる。動物の皮革等を利用していた文明では、現在サンダルと呼ばれる履物は、ごく一般的なものであったと考えられる。また草鞋などサンダル状に植物性の素材を編んで作ったものも多岐にわたり、広範囲にその類型が見出せる。ゆえに、その起源に関しては、どこであると一意に定めることは出来ず、世界各地の古今や東西を問わずサンダルのような簡素な履物が見出され、考古学の範疇でもこれに類する遺物も発見されている。例えば、アメリカ合衆国オレゴン州のフォートロック洞窟で1938年に発見された樹皮を編んで作られたものは、1万5百年ほど前のものであるとみられている。\n",
      "サンダル サンダル(sandal)は、足全体を包まず、紐やバンドなどで足に止める履物の総称である。\n",
      "-------\n",
      "「木曽路はすべて山の中である」という一文で始まる、島崎藤村の小説は何でしょう?\n",
      "['夜明け前']\n",
      "夜明け前 『夜明け前』(よあけまえ)は、島崎藤村による長編小説、2部構成。「木曾路はすべて山の中である」の書き出しで始まる。藤村の父をモデルに明治維新前後の歴史を、当時の資料をふんだんに使い、個人と社会の動向を重層させて描いた小説。\n",
      "島崎藤村 島崎 藤村(しまざき とうそん、1872年3月25日(明治5年2月17日) - 1943年(昭和18年)8月22日)は、日本における詩人又は小説家である。本名は島崎 春樹(しまざき はるき)。信州木曾の中山道馬籠(現在の岐阜県中津川市馬籠)生まれ。『文学界』に参界し、ロマン主義に際した詩人として『若菜集』などを出版する。さらに、主な活動事項を小説に転じたのち、『破戒』や『春』などで代表的な自然主義作家となった。作品は他に、日本自然主義文学の到達点とされる『家』、姪との近親姦を告白した『新生』、父である島崎正樹をモデルとした歴史小説の大作『夜明け前』などが存在する。\n",
      "-------\n",
      "細田守監督の映画『バケモノの子』で、主人公のバケモノ・熊徹の声を演じた人気俳優は誰でしょう?\n",
      "['役所広司']\n",
      "-------\n",
      "英語では「コンセントレーション」や「メモリー」と呼ばれる、裏返したトランプを2枚ずつ表にして同じ数字なら獲得できるというルールのゲームは何でしょう?\n",
      "['神経衰弱']\n",
      "神経衰弱 (トランプゲーム) 神経衰弱(しんけいすいじゃく、concentration、Memory)は、トランプで行うゲームのひとつ。語呂の都合から「真剣衰弱(しんけんすいじゃく)」と表記・呼称されることがあるが、誤字・誤称である。 トランプ以外では麻雀牌で行う事もある。また、コンセントレイション(英語版)(米国など)、ペア・ゲーム(フランス語版)(フランス)など専用のカードを用いたカードゲームとして楽しまれている国もある。\n",
      "-------\n",
      "大正6年に刊行された、詩人・萩原朔太郎の第一詩集は何でしょう?\n",
      "['月に吠える']\n",
      "月に吠える (萩原朔太郎の詩集) 『月に吠える』(つきにほえる)は萩原朔太郎の詩集。朔太郎の処女詩集で54編の詩を収録、序文を北原白秋、跋文を室生犀星が書いている。1917年(大正6年)2月に刊行された。発売後まもなく、詩壇・文壇から激賞され、朔太郎の詩人としての名声を高めた。新しい口語象徴詩の領域を開拓した第1詩集。孤独者の病的で奇怪な感覚を、鮮明なイメージと柔軟で緊迫感あふれるリズムによって表現している。室生犀星が、朔太郎自身の心象風景とする「ありあけ」を左に掲げる。\n",
      "萩原朔太郎 またこのころから教会に出入りし、神や信仰、罪などの問題に悩み始める。1916年(大正5年)春頃から自宅で毎週一回の「詩と音楽の研究会」を開き、6月に室生犀星との2人雑誌『感情』を創刊。高度に成熟した散文詩や評論を発表し始め、1917年(大正6年)32歳で、第一詩集『月に吠える』を感情詩社と白日社共刊により自費出版で刊行。内容・形式共に従来の詩の概念を破り、口語象徴詩・叙情詩の新領域を開拓し、詩壇に確固たる地位を確立。森鷗外の絶賛を受けるなど、一躍詩壇の寵児となり、5月『文章世界』誌上において神秘主義・象徴主義論のきっかけをつくる論文を発表。『文章世界』1917年5月に「三木露風一派の詩を追放せよ」を発表した。1918年(大正7年)『感情』に詩3編を発表したのち、前橋市でマンドリン倶楽部の演奏会を頻繁に開催し、前橋在住の詩人歌人たちと「文芸座談会」を設ける。\n"
     ]
    }
   ],
   "source": [
    "for key in combined_keys:\n",
    "    data = combined_data[key]\n",
    "    jaqket = jaqket_dict[key]\n",
    "    question = jaqket[\"question\"]\n",
    "    answers = jaqket[\"answers\"]\n",
    "    print(\"-------\")\n",
    "    print(question)\n",
    "    print(answers)\n",
    "    for k, v in list(data.items())[0:3]:\n",
    "        d = ds[int(k)]\n",
    "        title = d[\"title\"]\n",
    "        text = title + \" \" + d[\"text\"]\n",
    "        for answer in answers:\n",
    "            if answer in text:\n",
    "                print(text)"
   ]
  }
 ],
 "metadata": {
  "kernelspec": {
   "display_name": "py310",
   "language": "python",
   "name": "python3"
  },
  "language_info": {
   "codemirror_mode": {
    "name": "ipython",
    "version": 3
   },
   "file_extension": ".py",
   "mimetype": "text/x-python",
   "name": "python",
   "nbconvert_exporter": "python",
   "pygments_lexer": "ipython3",
   "version": "3.10.13"
  }
 },
 "nbformat": 4,
 "nbformat_minor": 2
}
