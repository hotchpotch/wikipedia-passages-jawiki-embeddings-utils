{
 "cells": [
  {
   "cell_type": "code",
   "execution_count": 1,
   "metadata": {},
   "outputs": [
    {
     "name": "stderr",
     "output_type": "stream",
     "text": [
      "/Users/hotchpotch/miniconda3/envs/py310/lib/python3.10/site-packages/tqdm/auto.py:21: TqdmWarning: IProgress not found. Please update jupyter and ipywidgets. See https://ipywidgets.readthedocs.io/en/stable/user_install.html\n",
      "  from .autonotebook import tqdm as notebook_tqdm\n"
     ]
    }
   ],
   "source": [
    "from datasets.download import DownloadManager\n",
    "from datasets import load_dataset\n",
    "from sentence_transformers import SentenceTransformer\n",
    "import faiss\n",
    "\n",
    "MODEL_NAME = \"intfloat/multilingual-e5-small\""
   ]
  },
  {
   "cell_type": "code",
   "execution_count": 2,
   "metadata": {},
   "outputs": [],
   "source": [
    "# データセットのロード\n",
    "wikija_dataset = load_dataset(\n",
    "    path=\"singletongue/wikipedia-utils\",\n",
    "    name=\"passages-c400-jawiki-20230403\",\n",
    "    split=\"train\",\n",
    ")\n",
    "# faiss index のダウンロード\n",
    "dm = DownloadManager()\n",
    "index_local_path = dm.download(\n",
    "    f\"https://huggingface.co/datasets/hotchpotch/wikipedia-passages-jawiki-embeddings/resolve/main/faiss_indexes/passages-c400-jawiki-20230403/multilingual-e5-small-passage/index_IVF2048_PQ96.faiss\"\n",
    ")\n",
    "# faiss index のロード\n",
    "faiss_index = faiss.read_index(index_local_path)"
   ]
  },
  {
   "cell_type": "code",
   "execution_count": 3,
   "metadata": {},
   "outputs": [],
   "source": [
    "# embeddings へ変換するモデルのロード\n",
    "\n",
    "model = SentenceTransformer(\"intfloat/multilingual-e5-small\")\n",
    "model.max_seq_length = 512"
   ]
  },
  {
   "cell_type": "code",
   "execution_count": 4,
   "metadata": {},
   "outputs": [],
   "source": [
    "def to_emb(model, text, prefix=\"query: \"):\n",
    "    return model.encode([prefix + text], normalize_embeddings=True)\n",
    "\n",
    "\n",
    "emb = to_emb(model, \"1975年に『アザミ嬢のララバイ』でデビューした女性歌手で、『わかれうた』『地上の星』などの曲を出しているのは誰?\")"
   ]
  },
  {
   "cell_type": "code",
   "execution_count": 5,
   "metadata": {},
   "outputs": [
    {
     "name": "stdout",
     "output_type": "stream",
     "text": [
      "(0.21511322, 'アザミ嬢のララバイ', '「アザミ嬢のララバイ」(アザミじょうのララバイ)は、中島みゆきのデビュー・シングル。1975年9月25日にキャニオン・レコードよりリリース(レーベルはAARD-VARK)。規格品番:AV-69。')\n",
      "(0.24348262, 'わかれうた', '今作で、自身初のオリコンシングルチャート1位を獲得した。この後中島は、オリコンにおいて4つの年代に渡ってシングルチャート1位を獲得することになる。カップリングの「ホームにて」が、JR東日本の特別企画乗')\n",
      "(0.24827655, 'アザミ嬢のララバイ', '3⁄4拍子のワルツである。1stアルバム『私の声が聞こえますか』にはアレンジ違いのアルバムバージョンが収録された。本作発表・発売前の1972年に「フォーク音楽祭全国大会」に出場し「あたし時々おもうの」')\n",
      "(0.2785422, 'わかれうた', '「わかれうた」は、中島みゆきの楽曲で、5枚目のシングル。1977年9月10日にキャニオン・レコードよりリリース。累計売上はミリオンセラーに達した。')\n",
      "(0.2917346, '地上の星/ヘッドライト・テールライト', '「地上の星/ヘッドライト・テールライト」(ちじょうのほし / ヘッドライト・テールライト)は、中島みゆきの37作目のシングル。2000年7月19日にヤマハミュージックコミュニケーションズから発売された')\n"
     ]
    }
   ],
   "source": [
    "TOP_K = 5\n",
    "scores, indexes = faiss_index.search(emb, TOP_K)\n",
    "for idx, (id, score) in enumerate(zip(indexes[0], scores[0])):\n",
    "    data = wikija_dataset[int(id)]\n",
    "    print((score, data[\"title\"], data[\"text\"][:100]))"
   ]
  }
 ],
 "metadata": {
  "kernelspec": {
   "display_name": "llm-sc",
   "language": "python",
   "name": "python3"
  },
  "language_info": {
   "codemirror_mode": {
    "name": "ipython",
    "version": 3
   },
   "file_extension": ".py",
   "mimetype": "text/x-python",
   "name": "python",
   "nbconvert_exporter": "python",
   "pygments_lexer": "ipython3",
   "version": "3.10.13"
  }
 },
 "nbformat": 4,
 "nbformat_minor": 2
}
