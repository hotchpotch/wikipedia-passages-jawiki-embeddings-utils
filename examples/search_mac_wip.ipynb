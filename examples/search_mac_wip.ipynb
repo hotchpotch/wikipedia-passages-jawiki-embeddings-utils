{
 "cells": [
  {
   "cell_type": "code",
   "execution_count": 1,
   "metadata": {},
   "outputs": [],
   "source": [
    "MODEL_NAME = \"intfloat/multilingual-e5-small\"\n",
    "\n",
    "WORKING_DIR = \"/Users/hotchpotch/src/huggingface.co/datasets/hotchpotch/wikipedia-passages-jawiki-embeddings/\"\n",
    "# WORKING_DIR = '/home/hotchpotch/src/huggingface.co/datasets/hotchpotch/wikipedia-passages-jawiki-embeddings/'\n",
    "\n",
    "WIKIPEDIA_DS = \"singletongue/wikipedia-utils\"\n",
    "WIKIPEDIA_DS_NAME = \"passages-c400-jawiki-20230403\"\n",
    "# DS_NAME = 'hotchpotch/wikipedia-ja-20231030'\n",
    "INDEX_NAME = \"faiss_indexes/passages-c400-jawiki-20230403/multilingual-e5-small-passage/index_m96_mbit8_nlist1024.faiss\""
   ]
  },
  {
   "cell_type": "code",
   "execution_count": 2,
   "metadata": {},
   "outputs": [
    {
     "name": "stderr",
     "output_type": "stream",
     "text": [
      "/Users/hotchpotch/miniconda3/envs/py310/lib/python3.10/site-packages/tqdm/auto.py:21: TqdmWarning: IProgress not found. Please update jupyter and ipywidgets. See https://ipywidgets.readthedocs.io/en/stable/user_install.html\n",
      "  from .autonotebook import tqdm as notebook_tqdm\n"
     ]
    }
   ],
   "source": [
    "from datasets.download import DownloadManager\n",
    "from datasets import load_dataset\n",
    "\n",
    "ds = load_dataset(path=WIKIPEDIA_DS, name=WIKIPEDIA_DS_NAME, split=\"train\")\n",
    "dm = DownloadManager()\n",
    "# index_pass  = dm.download(f\"https://huggingface.co/datasets/{DS_NAME}/resolve/main/{INDEX_NAME}\")"
   ]
  },
  {
   "cell_type": "code",
   "execution_count": 3,
   "metadata": {},
   "outputs": [
    {
     "data": {
      "text/plain": [
       "Dataset({\n",
       "    features: ['id', 'pageid', 'revid', 'title', 'section', 'text'],\n",
       "    num_rows: 5555583\n",
       "})"
      ]
     },
     "execution_count": 3,
     "metadata": {},
     "output_type": "execute_result"
    }
   ],
   "source": [
    "ds"
   ]
  },
  {
   "cell_type": "code",
   "execution_count": 4,
   "metadata": {},
   "outputs": [],
   "source": [
    "import torch\n",
    "from sentence_transformers import SentenceTransformer\n",
    "\n",
    "\n",
    "def get_model(model_name: str, max_seq_length=512):\n",
    "    device = \"cpu\"\n",
    "    if torch.cuda.is_available():\n",
    "        device = \"cuda\"\n",
    "    elif torch.backends.mps.is_available():\n",
    "        device = \"mps\"\n",
    "    model = SentenceTransformer(model_name, device=device)\n",
    "    model.max_seq_length = max_seq_length\n",
    "    return model\n",
    "\n",
    "\n",
    "MODEL = get_model(MODEL_NAME)"
   ]
  },
  {
   "cell_type": "code",
   "execution_count": 5,
   "metadata": {},
   "outputs": [
    {
     "data": {
      "text/plain": [
       "'/Users/hotchpotch/src/huggingface.co/datasets/hotchpotch/wikipedia-passages-jawiki-embeddings/faiss_indexes/passages-c400-jawiki-20230403/multilingual-e5-small-passage/index_m96_mbit8_nlist1024.faiss'"
      ]
     },
     "execution_count": 5,
     "metadata": {},
     "output_type": "execute_result"
    }
   ],
   "source": [
    "WORKING_DIR + INDEX_NAME"
   ]
  },
  {
   "cell_type": "code",
   "execution_count": 6,
   "metadata": {},
   "outputs": [
    {
     "data": {
      "text/plain": [
       "5555583"
      ]
     },
     "execution_count": 6,
     "metadata": {},
     "output_type": "execute_result"
    }
   ],
   "source": [
    "import faiss\n",
    "\n",
    "index = faiss.read_index(WORKING_DIR + INDEX_NAME)\n",
    "index.ntotal"
   ]
  },
  {
   "cell_type": "code",
   "execution_count": 10,
   "metadata": {},
   "outputs": [],
   "source": [
    "index.nprobe = 512"
   ]
  },
  {
   "cell_type": "code",
   "execution_count": 11,
   "metadata": {},
   "outputs": [
    {
     "data": {
      "text/plain": [
       "(1, 384)"
      ]
     },
     "execution_count": 11,
     "metadata": {},
     "output_type": "execute_result"
    }
   ],
   "source": [
    "import numpy as np\n",
    "\n",
    "prefix = \"\"\n",
    "\n",
    "if \"-e5-\" in INDEX_NAME:\n",
    "    prefix = \"query: \"\n",
    "\n",
    "\n",
    "def to_emb(text, prefix=prefix) -> np.ndarray:\n",
    "    return MODEL.encode([prefix + text], normalize_embeddings=True)  # type: ignore\n",
    "\n",
    "\n",
    "emb = to_emb(\"フリーレンの声優は誰?\")\n",
    "emb.shape"
   ]
  },
  {
   "cell_type": "code",
   "execution_count": 12,
   "metadata": {},
   "outputs": [
    {
     "name": "stdout",
     "output_type": "stream",
     "text": [
      "Embedding took 0.02 seconds\n",
      "Search took 0.07 seconds\n",
      "0.21803653 アザミ嬢のララバイ 「アザミ嬢のララバイ」(アザミじょうのララバイ)は、中島みゆきのデビュー・シングル。1975年9月25日にキャニオン・レコードよりリリース(レーベルはAARD-VARK)。規格品番:AV-69。\n",
      "0.24827915 アザミ嬢のララバイ 3⁄4拍子のワルツである。1stアルバム『私の声が聞こえますか』にはアレンジ違いのアルバムバージョンが収録された。本作発表・発売前の1972年に「フォーク音楽祭全国大会」に出場し「あたし時々おもうの」で入賞しており、この時の音源は大会実況版としてLP化、発売されている。そのような経緯もありレコード・デビューとプロ・デビューは年月が異なるが、本格的なデビューとしては本作から起算されている。発売前に、父親が脳溢血で倒れ昏睡状態で病院に運ばれたため、中島本人は宣伝活動ができなかった。オリジナル7インチシングル盤の歌詞カードには中島のプロフィールと、本作を制作した時の心境(「ララバイ」について一言)、及び「アザミ」についての一言が記載されている。編曲家として活動している、船山基紀のデビュー作である。\n",
      "0.25072595 わかれうた 今作で、自身初のオリコンシングルチャート1位を獲得した。この後中島は、オリコンにおいて4つの年代に渡ってシングルチャート1位を獲得することになる。カップリングの「ホームにて」が、JR東日本の特別企画乗車券(トクトクきっぷ)「ふるさと行きの乗車券」のラジオCMソングに使われている。ヒットしていた当時、フジテレビ『夜のヒットスタジオ』に同曲でテレビ出演。『アザミ嬢のララバイ』と本作を披露した。その際の姿は黒いドレスに裸足でアコースティック・ギターという出で立ちであった。1978年1月19日放送開始のTBSテレビ『ザ・ベストテン』第1回の放映で4位にランクインしたが、同番組への出演は一切拒否していた。ちなみに3位は、桜田淳子に楽曲提供した「しあわせ芝居」だった。\n",
      "0.2827809 アザミ嬢のララバイ 1978年に「わかれうた」がヒットした際、『夜のヒットスタジオ』に出演。本作と「わかれうた」を披露した。\n",
      "0.28566822 わかれうた 「わかれうた」は、中島みゆきの楽曲で、5枚目のシングル。1977年9月10日にキャニオン・レコードよりリリース。累計売上はミリオンセラーに達した。\n",
      "0.29426536 太田裕美 他のメンバーには山下久美子、大沢誉志幸(クラウディ・スカイ)、チャクラ、桑江知子、大塚博堂、大上留利子、ルイス、ララなどがいた。渡辺プロダクションにはのちに太田の夫となる福岡智彦が在籍し、チャクラのメジャー・デビューを手がけていた。1970年代には、渡辺プロ所属の歌手は日本テレビ制作の一部番組には出演できない時期があったが、太田裕美だけは「NON STOPプロジェクト」所属歌手ということで例外とされ、『TVジョッキー』『どっきりカメラ』などにも度々出演していた。読売テレビ等の系列局制作番組や前出の『TVジョッキー』等、井原高忠が関与していなかった番組にはNON STOPプロジェクト所属歌手以外でも出演できた。1979年に発表したアルバム『Feelin' Summer』収録の「星がたり」は、柊あおいの少女漫画『星の瞳のシルエット』のテーマソングとして使用された。\n",
      "0.2955524 地上の星/ヘッドライト・テールライト 「地上の星/ヘッドライト・テールライト」(ちじょうのほし / ヘッドライト・テールライト)は、中島みゆきの37作目のシングル。2000年7月19日にヤマハミュージックコミュニケーションズから発売された。このシングルから、タイトル曲のTV-MIX(オリジナル・カラオケ)が無かったり、カップリング曲がライブ音源の場合を除き、シングルカセットの『時代/最後の女神』以来、約7年ぶりに両A面の2曲目やカップリング曲のTV-MIX(オリジナル・カラオケ)も収録された。2022年11月28日にこのシングルは、新たにデジタル・ダウンロード配信された。\n",
      "0.29904985 庄野真代 2年後の1978年には代表曲「飛んでイスタンブール」が大ヒットとなり、同年12月31日には『第20回日本レコード大賞』中山晋平賞(のち作曲賞)受賞と同時に、『第29回NHK紅白歌合戦』に初出場を果たした。その他のヒット曲には、1978年の「モンテカルロで乾杯」「マスカレード」、1980年の「Hey Lady 優しくなれるかい」などがある。私生活では1977年に作曲家の小泉まさみと結婚し、2女をもうけたが、小泉とは後に離婚している。1980年に「休業宣言」をして音楽活動を休止、同年に世界一周の旅に出て28か国132都市を渡り歩いた。その際にはイスタンブールも訪問しているが、歌詞のイメージと実際の風景があまりに異なるので驚いたという。帰国後は歌手活動を再開したほか、執筆・講演活動も開始。ミュージカルやテレビドラマにも出演する。\n",
      "0.29911634 中島みゆき 中島 みゆき(なかじま みゆき、1952年〈昭和27年〉2月23日 - )は、日本のシンガーソングライター、ラジオパーソナリティ。北海道札幌市出身。本名は中島 美雪(読み同じ)。1975年にシングル「アザミ嬢のララバイ」でデビューした。公式ファンクラブ名は『なみふく』。オリコンにおいて、4つの年代にわたってシングルチャート1位を獲得した唯一のソロ・アーティストであり、他のアーティストへの提供曲が、5つの年代にわたってオリコンシングルチャート1位を獲得している(後述参照)。また、自身の歌唱も含めると、作詞・作曲を手掛けた作品が5つの年代にわたってオリコンシングルチャート1位を獲得したことになる。\n",
      "0.30024037 Singles (中島みゆきのアルバム) 中島の映像作品『中島みゆき CDV GOLD』と同時発売で、1975年9月25日発売のデビュー曲である「アザミ嬢のララバイ」から1986年11月21日発売の「やまねこ」までのシングルを3枚のCDにまとめたアルバムである。収録の順番は特異で、「やまねこ」からA面・B面を新しい順に並べている。最初に発売されていたものと、再発されたものではパッケージが異なる。最初に発売されていたものは、通常の10mmケースを2枚合体させた通称マルチ・ケース(最大4枚をコンパイルできる仕様、『歌暦』と同じケース)に入れられていた。再発時は、通常の10mmケース3枚組を紙のケースに収めていた。2004年6月23日にヤマハミュージックコミュニケーションズより再発売された。\n"
     ]
    }
   ],
   "source": [
    "import time\n",
    "\n",
    "\n",
    "def faiss_search_by_text(text, ds, faiss_index=index, top_k=10):\n",
    "    start_time = time.time()\n",
    "    emb = to_emb(text)\n",
    "    emb_time = time.time()\n",
    "    print(f\"Embedding took {emb_time - start_time:.2f} seconds\")\n",
    "    D, I = faiss_index.search(emb, top_k)\n",
    "    end_time = time.time()\n",
    "    print(f\"Search took {end_time - emb_time:.2f} seconds\")\n",
    "    results = []\n",
    "    for idx, (id, d) in enumerate(zip(I[0], D[0])):\n",
    "        if idx >= 0:\n",
    "            id = int(id)\n",
    "            results.append((ds[id], d))\n",
    "    return results\n",
    "\n",
    "\n",
    "q = \"宝川温泉が東の横綱、湯原温泉が西の横綱と呼ばれる、温泉地ではおなじみの野外に設置されたお風呂を何というでしょう?\"\n",
    "q = \"日本で最大の湖は?\"\n",
    "q = \"ラーメン食べたい?\"\n",
    "q = \"1975年に『アザミ嬢のララバイ』でデビューした女性歌手で、『わかれうた』『地上の星』などの曲を出しているのは誰?\"\n",
    "\n",
    "for data, score in faiss_search_by_text(q, ds):\n",
    "    print(score, data[\"title\"], data[\"text\"])\n",
    "    # print(list(data.keys()))"
   ]
  }
 ],
 "metadata": {
  "kernelspec": {
   "display_name": "llm-sc",
   "language": "python",
   "name": "python3"
  },
  "language_info": {
   "codemirror_mode": {
    "name": "ipython",
    "version": 3
   },
   "file_extension": ".py",
   "mimetype": "text/x-python",
   "name": "python",
   "nbconvert_exporter": "python",
   "pygments_lexer": "ipython3",
   "version": "3.10.13"
  }
 },
 "nbformat": 4,
 "nbformat_minor": 2
}
