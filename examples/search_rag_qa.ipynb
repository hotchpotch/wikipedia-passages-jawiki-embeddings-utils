{
 "cells": [
  {
   "cell_type": "code",
   "execution_count": 1,
   "metadata": {},
   "outputs": [],
   "source": [
    "MODEL_NAME = \"intfloat/multilingual-e5-small\"\n",
    "\n",
    "WIKIPEDIA_DS = \"singletongue/wikipedia-utils\"\n",
    "WIKIPEDIA_DS_NAME = \"passages-c400-jawiki-20230403\"\n",
    "DS_NAME = \"hotchpotch/wikipedia-passages-jawiki-embeddings\"\n",
    "INDEX_NAME = f\"faiss_indexes/{WIKIPEDIA_DS_NAME}/multilingual-e5-small-passage/index_IVF2048_PQ96.faiss\""
   ]
  },
  {
   "cell_type": "code",
   "execution_count": 2,
   "metadata": {},
   "outputs": [
    {
     "name": "stderr",
     "output_type": "stream",
     "text": [
      "/Users/hotchpotch/miniconda3/envs/py310/lib/python3.10/site-packages/tqdm/auto.py:21: TqdmWarning: IProgress not found. Please update jupyter and ipywidgets. See https://ipywidgets.readthedocs.io/en/stable/user_install.html\n",
      "  from .autonotebook import tqdm as notebook_tqdm\n"
     ]
    },
    {
     "data": {
      "text/plain": [
       "'https://huggingface.co/datasets/hotchpotch/wikipedia-passages-jawiki-embeddings/resolve/main/faiss_indexes/passages-c400-jawiki-20230403/multilingual-e5-small-passage/index_IVF2048_PQ96.faiss'"
      ]
     },
     "execution_count": 2,
     "metadata": {},
     "output_type": "execute_result"
    }
   ],
   "source": [
    "from datasets.download import DownloadManager\n",
    "from datasets import load_dataset  # type: ignore\n",
    "\n",
    "ds = load_dataset(path=WIKIPEDIA_DS, name=WIKIPEDIA_DS_NAME, split=\"train\")\n",
    "dm = DownloadManager()\n",
    "index_local_path = dm.download(\n",
    "    f\"https://huggingface.co/datasets/{DS_NAME}/resolve/main/{INDEX_NAME}\"\n",
    ")\n",
    "f\"https://huggingface.co/datasets/{DS_NAME}/resolve/main/{INDEX_NAME}\""
   ]
  },
  {
   "cell_type": "code",
   "execution_count": 3,
   "metadata": {},
   "outputs": [
    {
     "data": {
      "text/plain": [
       "Dataset({\n",
       "    features: ['id', 'pageid', 'revid', 'title', 'section', 'text'],\n",
       "    num_rows: 5555583\n",
       "})"
      ]
     },
     "execution_count": 3,
     "metadata": {},
     "output_type": "execute_result"
    }
   ],
   "source": [
    "ds"
   ]
  },
  {
   "cell_type": "code",
   "execution_count": 4,
   "metadata": {},
   "outputs": [],
   "source": [
    "from sentence_transformers import SentenceTransformer\n",
    "\n",
    "MODEL = SentenceTransformer(MODEL_NAME, device=\"cpu\")\n",
    "MODEL.max_seq_length = 512"
   ]
  },
  {
   "cell_type": "code",
   "execution_count": 5,
   "metadata": {},
   "outputs": [
    {
     "data": {
      "text/plain": [
       "5555583"
      ]
     },
     "execution_count": 5,
     "metadata": {},
     "output_type": "execute_result"
    }
   ],
   "source": [
    "import faiss\n",
    "\n",
    "index = faiss.read_index(index_local_path)\n",
    "index.ntotal"
   ]
  },
  {
   "cell_type": "code",
   "execution_count": 6,
   "metadata": {},
   "outputs": [],
   "source": [
    "index.nprobe = 128"
   ]
  },
  {
   "cell_type": "code",
   "execution_count": 7,
   "metadata": {},
   "outputs": [
    {
     "data": {
      "text/plain": [
       "(1, 384)"
      ]
     },
     "execution_count": 7,
     "metadata": {},
     "output_type": "execute_result"
    }
   ],
   "source": [
    "import numpy as np\n",
    "\n",
    "prefix = \"\"\n",
    "\n",
    "if \"-e5-\" in INDEX_NAME:\n",
    "    prefix = \"query: \"\n",
    "\n",
    "\n",
    "def to_emb(text, prefix=prefix) -> np.ndarray:\n",
    "    return MODEL.encode([prefix + text], normalize_embeddings=True)  # type: ignore\n",
    "\n",
    "\n",
    "emb = to_emb(\"フリーレンの声優は誰?\")\n",
    "emb.shape"
   ]
  },
  {
   "cell_type": "code",
   "execution_count": 8,
   "metadata": {},
   "outputs": [
    {
     "name": "stdout",
     "output_type": "stream",
     "text": [
      "Search took 0.01 seconds\n",
      "0.17603306 露天風呂 露天風呂番付(ろてんぶろばんづけ)は、温泉番付の一種であり、露天風呂が有名な温泉地を番付したものである。作成されたのは1981年で、野口冬人の手で編集された。露天風呂番付における西の横綱は湯原温泉の「砂湯」、東の横綱は宝川温泉である。湯原温泉には大きな露天風呂番付のモニュメントが掲示されており、温泉地のシンボルとなっている。\n",
      "0.2231432 水上温泉郷 詳しくは、主人公であるローマ帝国のテルマエ設計技師ルシウス(演:阿部寛)がタイムスリップして出没する“平たい顔族(日本人もしくは大和民族のこと)”の露天風呂が、汪泉閣で最も大きい露天風呂「子宝の湯」である。宝川(たからがわ)は、利根川上流域の支流の一つであり、一級河川である。群馬県利根郡みなかみ町藤原と新潟県南魚沼市藤原との県境に位置する中央分水界を成す大烏帽子山の、南麓を源流域として発し、おおよそ南東方向へ流れて、宝台樹山(水上宝台樹スキー場を擁する山)の北西麓に広がる扇状地にある奥利根橋付近 で利根川本流 に合流する。上述のとおり、「宝川温泉」の名の由来になっている。宝泉峡(ほうせんきょう)は、宝川の下流域にある渓谷。宝川温泉から800mほど上流にある。総延長約2km。\n",
      "0.23655552 湯原温泉 現在、利用されている温泉はその一部だけでほとんどは未利用のまま川に流されている。河原に遊歩道及び駐車場が整備されている。基本は湯治、保養、療養向けであるが、場所柄、山陰・山陽の行楽拠点としても重宝され、落ち着いた湯街の風情は観光地の売りのひとつである。湯原温泉を代表する名所で湯原ダムの下にある巨大な共同露天風呂「砂噴き湯:砂湯」。川底から砂を噴きながら温泉が湧いていることから砂噴き湯(砂湯)の名称で呼ばれるようになった。足下噴出源泉露天風呂である。旅行作家の会代表の野口冬人が、日本温泉協会発行の「温泉」紙上に1977年(昭和52年)に発表した露天風呂番付において西の横綱とされる。川の中にあるお風呂ながら住民により管理され無料で開放されていることが横綱の評価となった。 この砂湯は湯原温泉の古代からのお風呂の様子を唯一残す物で市の文化財として指定されている。ここでの入浴は混浴である。\n",
      "0.2401702 水上温泉郷 昭和の温泉評論家・野口冬人が1980年(昭和55年)発行の旅行誌上で発表した、国内温泉地における「露天風呂番付」では、東の横綱に選ばれている。旅行口コミサイト「トリップアドバイザー」の選ぶ「外国人が最も注目した日本の観光スポット2008」においては、草津温泉、伊香保温泉等を押さえて第16位に選ばれた。2013年にロイター通信社が選ぶ「世界の温泉トップ10」の第6位に選出(日本の温泉として唯一の選出)される と、ロイターの影響度の高さも相まって外国人観光客の間で知名度が飛躍的に高まった。2014年(平成26年)4月26日公開の東宝映画『テルマエ・ロマエII』では主要なロケ地の一つになった (cf.) 。\n",
      "0.24215576 水上温泉郷 宝川温泉(たからがわ おんせん、伝統的表記:寶川温泉)は、水上からさらに利根川を遡り、藤原ダム(藤原湖)の北端から宝川(利根川支流)を1kmほど遡った地点に所在する温泉。所在地名は、群馬県利根郡みなかみ町藤原(江戸時代における上野国利根郡藤原村、幕藩体制下の上州沼田藩知行藤原村)で、古来「藤原郷」と呼ばれる地域(藤原山を最高所とする利根川源流域を主とする広範な地域)に属する。かつての「奥利根八湯」「水上八湯」の一つ、2005年(平成17年)10月以降でいうところの「みなかみ十八湯」の一つ。ヤマトタケル(日本武尊)が白鷹 に導かれたという開湯伝説によって白鷹湯/白鷹の湯(はくたかのゆ)の名で古くから利用されてきた。宝川温泉の名はこの地を流れる「宝川」に由来するが、「宝川」という河川名は江戸時代から昭和初期までこの川で行われていた銅の採掘に由来している。\n",
      "0.24652319 湯田中温泉 規模の大きなホテルや創業が古い旅館などが14軒存在し、駅から夜間瀬川沿いの高台方向にみやげ物屋や飲食店などが点在し、温泉街を形成している。湯田中駅には日帰り入浴施設「楓の湯」が併設している。駅前および梅翁寺前には足湯も存在する。歓楽街温泉の雰囲気はあまり無いが、スナックなどは数軒存在する。共同浴場は大湯、綿の湯、わしの湯、千代の湯、滝の湯、白樺の湯、弥勒の湯、平和の湯、脚気の湯と9軒存在。かつては一般に開放されていたが、マナーの悪さにより地元民および宿泊客専用となる。一部の共同浴場は、毎月26日に一般客の入浴が可能。大湯は、日本温泉協会発行の雑誌「温泉」の第47巻「共同浴場番付」において、西の横綱の道後温泉と並び、東の横綱に番付けられた。温泉街の東部にはかつて湯田中ロープウェイが存在し、ごりん高原スキー場があった。\n",
      "0.2496508 水上温泉郷 当宿では、近代化以前の日本では当然であった混浴を、温泉側が衛生的に管理する湯浴み着を用意するという入浴形式(女性には胴部を緩く隠せるワンピース形の入浴時専用着を貸し出す。入浴の終わるごとに回収することで衛生面を担保する)を導入することで実現している。3つある混浴露天風呂は、それぞれに、面積120畳分・最大100人収容可能、面積200畳分・最大200人収容可能、面積50畳分・最大40人収容可能で、それ以外に面積100畳分・最大100人収容可能な女性専用露天風呂がある。宿ではツキノワグマを飼育しているが、昔は子熊を露天風呂で入浴させていたことでも知られている。1918年(大正7年)秋、若山牧水が水上や湯檜曽を訪れているが、上流の藤原郷(宝川温泉などを擁する現在の大字藤原)に足を伸ばそうとするも、雪の季節の訪れを知って取りやめたことを、『みなかみ紀行』で記している。\n",
      "0.25002608 湯原ダム 下流には湯原温泉街が広がっており、湯原ダムの下には露天風呂番付で西の横綱にランク付けされた露天風呂「名泉砂湯」が存在する。湯原ダムが大雨による増水で放流が実施されたため、この露天風呂をはじめ泉源が一時的に水没し、湯原温泉地内の旅館やホテルへの配湯が停止されたことがある。最寄りのアクセスは国道313号、岡山県道322号中福田湯原線になる。ダムの天端を通る道路は県道322号の一部になっており、対岸へ渡れる。\n",
      "0.25142545 野湯 川底や湖底に源泉があり、かつ高温または湧出量豊富で入浴に適した温度になっている場合がこれに該当する。川原毛大湯滝、カムイワッカの滝、弟子屈町の池の湯、登別温泉の湯の川、秋田焼山の硫黄取りの湯、尻焼温泉の露天風呂、立山カルデラの新湯などがこれにあたる。磯のくぼみに温泉が沸き、満潮の時は水没。干潮の時だけ入浴できるという温泉。それらの中には崖の下の岩場が波で浸食されて洞窟になった場所に温泉が沸いて湯船になっている場所もある。地鉈温泉、水無海浜温泉などがこれにあたる。\n",
      "0.25368094 川原毛大湯滝 野湯であり温泉街は存在しないが、滝に至る手前の道を左に進んだ所に川原毛温泉跡がある。また、川原毛地蔵菩薩の左下を流れる川には、人工的に作られた湯壺が2ヶ所あり1年を通じて入浴できる(現在、「立ち入り禁止」の看板が設置されている)。\n"
     ]
    }
   ],
   "source": [
    "import time\n",
    "\n",
    "\n",
    "def faiss_search_by_text(text, ds, faiss_index=index, top_k=10):\n",
    "    emb = to_emb(text)\n",
    "    start_time = time.time()\n",
    "    D, I = faiss_index.search(emb, top_k)\n",
    "    end_time = time.time()\n",
    "    print(f\"Search took {end_time - start_time:.2f} seconds\")\n",
    "    results = []\n",
    "    for idx, (id, d) in enumerate(zip(I[0], D[0])):\n",
    "        if idx >= 0:\n",
    "            id = int(id)\n",
    "            results.append((ds[id], d))\n",
    "    return results\n",
    "\n",
    "\n",
    "# q = 'フリーレンの声優は誰？'\n",
    "# q = 'フリーレンの悪役は?'\n",
    "q = \"宝川温泉が東の横綱、湯原温泉が西の横綱と呼ばれる、温泉地ではおなじみの野外に設置されたお風呂を何というでしょう?\"\n",
    "# q = '日本で最大の湖は?'\n",
    "\n",
    "for data, score in faiss_search_by_text(q, ds):\n",
    "    print(score, data[\"title\"], data[\"text\"])\n",
    "    # print(list(data.keys()))"
   ]
  }
 ],
 "metadata": {
  "kernelspec": {
   "display_name": "llm-sc",
   "language": "python",
   "name": "python3"
  },
  "language_info": {
   "codemirror_mode": {
    "name": "ipython",
    "version": 3
   },
   "file_extension": ".py",
   "mimetype": "text/x-python",
   "name": "python",
   "nbconvert_exporter": "python",
   "pygments_lexer": "ipython3",
   "version": "3.10.13"
  }
 },
 "nbformat": 4,
 "nbformat_minor": 2
}
