{
 "cells": [
  {
   "cell_type": "code",
   "execution_count": 1,
   "metadata": {},
   "outputs": [],
   "source": [
    "MODEL_NAME = 'intfloat/multilingual-e5-small'\n",
    "\n",
    "WORKING_DIR = '/home/hotchpotch/src/huggingface.co/datasets/hotchpotch/wikipedia-passages-jawiki-embeddings/'\n",
    "\n",
    "WIKIPEDIA_DS = 'singletongue/wikipedia-utils'\n",
    "WIKIPEDIA_DS_NAME = 'passages-c400-jawiki-20230403'\n",
    "# DS_NAME = 'hotchpotch/wikipedia-ja-20231030'\n",
    "INDEX_NAME = 'faiss_indexes/passages-c400-jawiki-20230403/multilingual-e5-small-passage/index_m96_mbit8_nlist512.faiss'\n"
   ]
  },
  {
   "cell_type": "code",
   "execution_count": 2,
   "metadata": {},
   "outputs": [
    {
     "name": "stderr",
     "output_type": "stream",
     "text": [
      "/home/yu1/miniconda3/envs/llm-sc/lib/python3.10/site-packages/tqdm/auto.py:21: TqdmWarning: IProgress not found. Please update jupyter and ipywidgets. See https://ipywidgets.readthedocs.io/en/stable/user_install.html\n",
      "  from .autonotebook import tqdm as notebook_tqdm\n"
     ]
    }
   ],
   "source": [
    "from datasets.download import DownloadManager\n",
    "from datasets import load_dataset\n",
    "\n",
    "ds = load_dataset(path=WIKIPEDIA_DS, name=WIKIPEDIA_DS_NAME, split=\"train\")\n",
    "dm = DownloadManager()\n",
    "# index_pass  = dm.download(f\"https://huggingface.co/datasets/{DS_NAME}/resolve/main/{INDEX_NAME}\")\n"
   ]
  },
  {
   "cell_type": "code",
   "execution_count": 4,
   "metadata": {},
   "outputs": [
    {
     "data": {
      "text/plain": [
       "Dataset({\n",
       "    features: ['id', 'pageid', 'revid', 'title', 'section', 'text'],\n",
       "    num_rows: 5555583\n",
       "})"
      ]
     },
     "execution_count": 4,
     "metadata": {},
     "output_type": "execute_result"
    }
   ],
   "source": [
    "ds"
   ]
  },
  {
   "cell_type": "code",
   "execution_count": 5,
   "metadata": {},
   "outputs": [],
   "source": [
    "from sentence_transformers import SentenceTransformer\n",
    "\n",
    "MODEL = SentenceTransformer(MODEL_NAME, device='cuda')\n",
    "MODEL.max_seq_length = 512"
   ]
  },
  {
   "cell_type": "code",
   "execution_count": 6,
   "metadata": {},
   "outputs": [
    {
     "data": {
      "text/plain": [
       "5555583"
      ]
     },
     "execution_count": 6,
     "metadata": {},
     "output_type": "execute_result"
    }
   ],
   "source": [
    "import faiss\n",
    "index = faiss.read_index(WORKING_DIR + INDEX_NAME)\n",
    "index.ntotal"
   ]
  },
  {
   "cell_type": "code",
   "execution_count": 25,
   "metadata": {},
   "outputs": [],
   "source": [
    "index.nprobe = 128"
   ]
  },
  {
   "cell_type": "code",
   "execution_count": 26,
   "metadata": {},
   "outputs": [
    {
     "data": {
      "text/plain": [
       "(1, 384)"
      ]
     },
     "execution_count": 26,
     "metadata": {},
     "output_type": "execute_result"
    }
   ],
   "source": [
    "import numpy as np\n",
    "prefix = \"\"\n",
    "\n",
    "if '-e5-' in INDEX_NAME:\n",
    "    prefix = \"query: \"\n",
    "\n",
    "def to_emb(text, prefix=prefix) -> np.ndarray:\n",
    "    return MODEL.encode([prefix + text], normalize_embeddings=True) # type: ignore\n",
    " \n",
    "emb = to_emb('フリーレンの声優は誰?')\n",
    "emb.shape\n"
   ]
  },
  {
   "cell_type": "code",
   "execution_count": 51,
   "metadata": {},
   "outputs": [
    {
     "name": "stdout",
     "output_type": "stream",
     "text": [
      "Search took 0.04 seconds\n",
      "0.18711293 露天風呂 露天風呂番付(ろてんぶろばんづけ)は、温泉番付の一種であり、露天風呂が有名な温泉地を番付したものである。作成されたのは1981年で、野口冬人の手で編集された。露天風呂番付における西の横綱は湯原温泉の「砂湯」、東の横綱は宝川温泉である。湯原温泉には大きな露天風呂番付のモニュメントが掲示されており、温泉地のシンボルとなっている。\n",
      "0.22631446 水上温泉郷 昭和の温泉評論家・野口冬人が1980年(昭和55年)発行の旅行誌上で発表した、国内温泉地における「露天風呂番付」では、東の横綱に選ばれている。旅行口コミサイト「トリップアドバイザー」の選ぶ「外国人が最も注目した日本の観光スポット2008」においては、草津温泉、伊香保温泉等を押さえて第16位に選ばれた。2013年にロイター通信社が選ぶ「世界の温泉トップ10」の第6位に選出(日本の温泉として唯一の選出)される と、ロイターの影響度の高さも相まって外国人観光客の間で知名度が飛躍的に高まった。2014年(平成26年)4月26日公開の東宝映画『テルマエ・ロマエII』では主要なロケ地の一つになった (cf.) 。\n",
      "0.22801468 水上温泉郷 詳しくは、主人公であるローマ帝国のテルマエ設計技師ルシウス(演:阿部寛)がタイムスリップして出没する“平たい顔族(日本人もしくは大和民族のこと)”の露天風呂が、汪泉閣で最も大きい露天風呂「子宝の湯」である。宝川(たからがわ)は、利根川上流域の支流の一つであり、一級河川である。群馬県利根郡みなかみ町藤原と新潟県南魚沼市藤原との県境に位置する中央分水界を成す大烏帽子山の、南麓を源流域として発し、おおよそ南東方向へ流れて、宝台樹山(水上宝台樹スキー場を擁する山)の北西麓に広がる扇状地にある奥利根橋付近 で利根川本流 に合流する。上述のとおり、「宝川温泉」の名の由来になっている。宝泉峡(ほうせんきょう)は、宝川の下流域にある渓谷。宝川温泉から800mほど上流にある。総延長約2km。\n",
      "0.22832566 湯原温泉 現在、利用されている温泉はその一部だけでほとんどは未利用のまま川に流されている。河原に遊歩道及び駐車場が整備されている。基本は湯治、保養、療養向けであるが、場所柄、山陰・山陽の行楽拠点としても重宝され、落ち着いた湯街の風情は観光地の売りのひとつである。湯原温泉を代表する名所で湯原ダムの下にある巨大な共同露天風呂「砂噴き湯:砂湯」。川底から砂を噴きながら温泉が湧いていることから砂噴き湯(砂湯)の名称で呼ばれるようになった。足下噴出源泉露天風呂である。旅行作家の会代表の野口冬人が、日本温泉協会発行の「温泉」紙上に1977年(昭和52年)に発表した露天風呂番付において西の横綱とされる。川の中にあるお風呂ながら住民により管理され無料で開放されていることが横綱の評価となった。 この砂湯は湯原温泉の古代からのお風呂の様子を唯一残す物で市の文化財として指定されている。ここでの入浴は混浴である。\n",
      "0.24156876 水上温泉郷 宝川温泉(たからがわ おんせん、伝統的表記:寶川温泉)は、水上からさらに利根川を遡り、藤原ダム(藤原湖)の北端から宝川(利根川支流)を1kmほど遡った地点に所在する温泉。所在地名は、群馬県利根郡みなかみ町藤原(江戸時代における上野国利根郡藤原村、幕藩体制下の上州沼田藩知行藤原村)で、古来「藤原郷」と呼ばれる地域(藤原山を最高所とする利根川源流域を主とする広範な地域)に属する。かつての「奥利根八湯」「水上八湯」の一つ、2005年(平成17年)10月以降でいうところの「みなかみ十八湯」の一つ。ヤマトタケル(日本武尊)が白鷹 に導かれたという開湯伝説によって白鷹湯/白鷹の湯(はくたかのゆ)の名で古くから利用されてきた。宝川温泉の名はこの地を流れる「宝川」に由来するが、「宝川」という河川名は江戸時代から昭和初期までこの川で行われていた銅の採掘に由来している。\n",
      "0.24829409 湯原ダム 下流には湯原温泉街が広がっており、湯原ダムの下には露天風呂番付で西の横綱にランク付けされた露天風呂「名泉砂湯」が存在する。湯原ダムが大雨による増水で放流が実施されたため、この露天風呂をはじめ泉源が一時的に水没し、湯原温泉地内の旅館やホテルへの配湯が停止されたことがある。最寄りのアクセスは国道313号、岡山県道322号中福田湯原線になる。ダムの天端を通る道路は県道322号の一部になっており、対岸へ渡れる。\n",
      "0.25167096 田代元湯 かつて存在した宿泊施設は廃業し廃墟となっている。獣道同然である山道の通行及び、温泉への入浴はすべて自己責任となる。現在は木製の露天風呂と岩風呂(露天)の二つの湯船と、辛うじて倒壊を免れたものの屋根の一部が損壊した木造の建物がひとつを残すのみの廃墟である。しかしながら現在でも湯量は豊富であり、地元の有志により清掃が行なわれているが不定期であるため常に入浴可能な状態ではない。木製の湯船は清掃が容易であるが、岩風呂はメンテナンス性が悪く排水も完全にできないためヘドロと藻が完全に排出できず、少なくとも3~4人で取り掛からなければ困難である。また、奥深い自然の中であるため、ツキノワグマ、ニホンカモシカ、マムシ、ヤマカガシなどの警戒および、オオスズメバチ、キイロスズメバチ、ブユ、アブ、蚊、ダニなどの防護も必要である。\n",
      "0.2551354 挾間温泉 挾間地域では、国道210号沿いや別府市に近い北部の丘陵に温泉が点在しており、油田水や古い地質時代に地下に閉じ込められた海水に由来する高濃度の溶存成分を含む温泉が多いことが特徴とされる。2019年10月4日に、従来、「湯布院温泉」として国民保養温泉地に指定されていた由布院温泉、湯平温泉に、当温泉、塚原温泉、庄内温泉を加えた由布市内の5地域の温泉が、「湯布院温泉郷」として国民保養温泉地に拡充指定された。「湯布院温泉郷」の国民保養温泉地計画においては、挾間温泉には16の源泉(鉱泉を含む)が含まれている。なお、2009年頃には、由布市挾間町に所在する8つの温泉を「はさま八湯」と称していた。その一部は「モール泉」として知られており、大分市で温泉掘削が行われた時代と同時期に掘削されたため、その泉質とほぼ同等である。\n",
      "0.25615913 水上温泉郷 宝川温泉が宿泊施設のある現在の形になったのは大正時代で、湯治場として整えられたものであったが、交通の便は悪かった。現在ある4つの源泉は全て昭和時代にボーリングされたものである。それ以前にあった源泉は全て自噴型であった。交通の便が改善されたのは昭和20年代後半から始まるダム工事に伴う道路の建設以降で、電気もこの頃に通るようになった。現在の施設は、1936年(昭和11年)築で木造2階建ての現・汪泉閣第一別館、1955年(昭和30年)に着工されて約2年後に完成した木造3階建ての汪泉閣本館、1966年(昭和41年)築で鉄筋コンクリート造の汪泉閣東館 などがある(後述)。現在施設としては、一軒宿の「宝川温泉 汪泉閣」(1923年〈大正12年〉創業。住所:みなかみ町藤原1899)があり、渓流沿いに広がる4つの露天風呂(総面積は470畳分)が有名である。\n",
      "0.2599753 城崎温泉 7つある外湯めぐりを主とした温泉である。外湯の筆頭とされる「一の湯」は江戸時代に「新湯(あらゆ)」と呼ばれていたが、江戸時代中期の古方派(こほうは)の漢方医香川修徳(香川修庵)が泉質を絶賛し、「海内一」(=日本一)の意味を込めて「一の湯」に改名した。また「さとの湯」は正式名称を豊岡市立城崎温泉交流センターといい、浴場施設及び研修室が指定管理者制度による公設民営、その他の施設が市営であり、施設内に豊岡市城崎総合支所温泉課がある。温泉郷に設置されている7ヶ所の外湯では観光客向けに当日最初の入湯者に一番札を配布している。城崎温泉駅前から7つの外湯につながる大谿川(おおたにがわ)沿いに温泉街を形成し、川べりには柳が植えられている。大谿川が流れ込む円山川本流沿いに所在する宿泊施設もある。なお、大谿川に架かる橋梁群は平成18年度(2006年度)に兵庫県の景観形成重要建造物に指定された。\n"
     ]
    }
   ],
   "source": [
    "import time\n",
    "def faiss_search_by_text(text, ds, faiss_index = index, top_k=10):\n",
    "    emb = to_emb(text)\n",
    "    start_time = time.time()\n",
    "    D, I = faiss_index.search(emb, top_k)\n",
    "    end_time = time.time()\n",
    "    print(f\"Search took {end_time - start_time:.2f} seconds\")\n",
    "    results = []\n",
    "    for idx, (id, d) in enumerate(zip(I[0], D[0])):\n",
    "        if idx >= 0:\n",
    "            id = int(id)\n",
    "            results.append((ds[id], d))\n",
    "    return results\n",
    "\n",
    "# q = 'フリーレンの声優は誰？'\n",
    "# q = 'フリーレンの悪役は?'\n",
    "q = '宝川温泉が東の横綱、湯原温泉が西の横綱と呼ばれる、温泉地ではおなじみの野外に設置されたお風呂を何というでしょう?'\n",
    "# q = '日本で最大の湖は?'\n",
    "\n",
    "for data, score in faiss_search_by_text(q, ds):\n",
    "    print(score, data['title'], data['text'])\n",
    "    # print(list(data.keys()))\n",
    "\n"
   ]
  }
 ],
 "metadata": {
  "kernelspec": {
   "display_name": "llm-sc",
   "language": "python",
   "name": "python3"
  },
  "language_info": {
   "codemirror_mode": {
    "name": "ipython",
    "version": 3
   },
   "file_extension": ".py",
   "mimetype": "text/x-python",
   "name": "python",
   "nbconvert_exporter": "python",
   "pygments_lexer": "ipython3",
   "version": "3.10.12"
  }
 },
 "nbformat": 4,
 "nbformat_minor": 2
}
