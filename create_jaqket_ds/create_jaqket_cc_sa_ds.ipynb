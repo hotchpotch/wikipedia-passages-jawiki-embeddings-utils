{
 "cells": [
  {
   "cell_type": "code",
   "execution_count": 1,
   "metadata": {},
   "outputs": [
    {
     "name": "stdout",
     "output_type": "stream",
     "text": [
      "aio_01_test https://jaqket.s3.ap-northeast-1.amazonaws.com/data/aio_02/aio_01_test.jsonl\n",
      "aio_01_dev https://jaqket.s3.ap-northeast-1.amazonaws.com/data/aio_02/aio_01_dev.jsonl\n",
      "aio_01_unused https://jaqket.s3.ap-northeast-1.amazonaws.com/data/aio_02/aio_01_unused.jsonl\n"
     ]
    }
   ],
   "source": [
    "\"\"\"\n",
    "Huggingface datasets に JAQKETのCC-BY-SA-4.0 ライセンスのデータを登録する\n",
    "\"\"\"\n",
    "\n",
    "import json\n",
    "import urllib.request\n",
    "from dataclasses import dataclass\n",
    "\n",
    "from datasets import load_dataset, Dataset, DatasetDict  # type: ignore\n",
    "\n",
    "JAQKET_V1_URLS = {\n",
    "    \"aio_01_test\": \"https://jaqket.s3.ap-northeast-1.amazonaws.com/data/aio_02/aio_01_test.jsonl\",\n",
    "    \"aio_01_dev\": \"https://jaqket.s3.ap-northeast-1.amazonaws.com/data/aio_02/aio_01_dev.jsonl\",\n",
    "    \"aio_01_unused\": \"https://jaqket.s3.ap-northeast-1.amazonaws.com/data/aio_02/aio_01_unused.jsonl\",\n",
    "}\n",
    "\n",
    "\n",
    "# jaqket v1\n",
    "@dataclass\n",
    "class JaqketQuestionV1:\n",
    "    qid: str\n",
    "    question: str\n",
    "    answers: list[str]\n",
    "    competition: str\n",
    "    timestamp: str\n",
    "    section: str\n",
    "    original_question: str\n",
    "    original_answer: str\n",
    "    original_additional_info: str\n",
    "    number: int\n",
    "\n",
    "\n",
    "def load_jaqket_v1(urls):\n",
    "    res: list[JaqketQuestionV1] = []\n",
    "    for url in urls:\n",
    "        with urllib.request.urlopen(url) as f:\n",
    "            # f は 1行ごとに処理\n",
    "            data = [json.loads(line.decode(\"utf-8\")) for line in f]\n",
    "        for d in data:\n",
    "            # dict_keys(['qid', 'competition', 'timestamp', 'section', 'number', 'original_question', 'original_answer', 'original_additional_info', 'question', 'answers'])\n",
    "            res.append(JaqketQuestionV1(**d))\n",
    "    return res\n",
    "\n",
    "\n",
    "jaqket_data = {}\n",
    "\n",
    "for name, url in JAQKET_V1_URLS.items():\n",
    "    print(name, url)\n",
    "    jaqket_data[name] = load_jaqket_v1([url])"
   ]
  },
  {
   "cell_type": "code",
   "execution_count": 2,
   "metadata": {},
   "outputs": [
    {
     "data": {
      "text/plain": [
       "JaqketQuestionV1(qid='QA20CAPR-1002', question='「課長」こと有野晋哉が様々なレトロゲームをクリアしていくという内容の、CS放送の人気番組は何でしょう?', answers=['ゲームセンターCX'], competition='第1回AI王', timestamp='2019/12/25', section='リーダーボードテスト問題', original_question='「課長」こと有野晋哉が様々なレトロゲームをクリアしていくという内容の、CS放送の人気番組は何でしょう？', original_answer='ゲームセンターCX', original_additional_info='', number='1002')"
      ]
     },
     "execution_count": 2,
     "metadata": {},
     "output_type": "execute_result"
    }
   ],
   "source": [
    "jaqket_data[\"aio_01_test\"][0]"
   ]
  },
  {
   "cell_type": "code",
   "execution_count": 7,
   "metadata": {},
   "outputs": [
    {
     "name": "stdout",
     "output_type": "stream",
     "text": [
      "aio_01_test 2000\n",
      "aio_01_dev 1992\n",
      "aio_01_unused 608\n"
     ]
    },
    {
     "data": {
      "text/plain": [
       "DatasetDict({\n",
       "    aio_01_test: Dataset({\n",
       "        features: ['qid', 'question', 'answers', 'competition', 'timestamp', 'section', 'original_question', 'original_answer', 'original_additional_info', 'number'],\n",
       "        num_rows: 2000\n",
       "    })\n",
       "    aio_01_dev: Dataset({\n",
       "        features: ['qid', 'question', 'answers', 'competition', 'timestamp', 'section', 'original_question', 'original_answer', 'original_additional_info', 'number'],\n",
       "        num_rows: 1992\n",
       "    })\n",
       "    aio_01_unused: Dataset({\n",
       "        features: ['qid', 'question', 'answers', 'competition', 'timestamp', 'section', 'original_question', 'original_answer', 'original_additional_info', 'number'],\n",
       "        num_rows: 608\n",
       "    })\n",
       "})"
      ]
     },
     "execution_count": 7,
     "metadata": {},
     "output_type": "execute_result"
    }
   ],
   "source": [
    "# pd\n",
    "import pandas as pd\n",
    "\n",
    "ds = DatasetDict()\n",
    "for name, data in jaqket_data.items():\n",
    "    print(name, len(data))\n",
    "    df = pd.DataFrame(data)\n",
    "    ds[name] = Dataset.from_pandas(df)\n",
    "ds"
   ]
  },
  {
   "cell_type": "code",
   "execution_count": 8,
   "metadata": {},
   "outputs": [
    {
     "data": {
      "application/vnd.jupyter.widget-view+json": {
       "model_id": "008e752886304529ab301ab1cacecddd",
       "version_major": 2,
       "version_minor": 0
      },
      "text/plain": [
       "Uploading the dataset shards:   0%|          | 0/1 [00:00<?, ?it/s]"
      ]
     },
     "metadata": {},
     "output_type": "display_data"
    },
    {
     "data": {
      "application/vnd.jupyter.widget-view+json": {
       "model_id": "a70cbc0d26f2474b91e6cce11275eebf",
       "version_major": 2,
       "version_minor": 0
      },
      "text/plain": [
       "Creating parquet from Arrow format:   0%|          | 0/2 [00:00<?, ?ba/s]"
      ]
     },
     "metadata": {},
     "output_type": "display_data"
    },
    {
     "data": {
      "application/vnd.jupyter.widget-view+json": {
       "model_id": "004d5d70e8174cd7a8740bb907b30c28",
       "version_major": 2,
       "version_minor": 0
      },
      "text/plain": [
       "Uploading the dataset shards:   0%|          | 0/1 [00:00<?, ?it/s]"
      ]
     },
     "metadata": {},
     "output_type": "display_data"
    },
    {
     "data": {
      "application/vnd.jupyter.widget-view+json": {
       "model_id": "de9fabba63ce480492adef41d2ebc5e7",
       "version_major": 2,
       "version_minor": 0
      },
      "text/plain": [
       "Creating parquet from Arrow format:   0%|          | 0/2 [00:00<?, ?ba/s]"
      ]
     },
     "metadata": {},
     "output_type": "display_data"
    },
    {
     "data": {
      "application/vnd.jupyter.widget-view+json": {
       "model_id": "7a71ae65a4c14193b01c1030e7c46cb1",
       "version_major": 2,
       "version_minor": 0
      },
      "text/plain": [
       "Uploading the dataset shards:   0%|          | 0/1 [00:00<?, ?it/s]"
      ]
     },
     "metadata": {},
     "output_type": "display_data"
    },
    {
     "data": {
      "application/vnd.jupyter.widget-view+json": {
       "model_id": "6e8d12f71d484fab9089f99f1fa0f473",
       "version_major": 2,
       "version_minor": 0
      },
      "text/plain": [
       "Creating parquet from Arrow format:   0%|          | 0/1 [00:00<?, ?ba/s]"
      ]
     },
     "metadata": {},
     "output_type": "display_data"
    },
    {
     "data": {
      "application/vnd.jupyter.widget-view+json": {
       "model_id": "3906e393c2e049b79722b725e421404c",
       "version_major": 2,
       "version_minor": 0
      },
      "text/plain": [
       "README.md:   0%|          | 0.00/30.0 [00:00<?, ?B/s]"
      ]
     },
     "metadata": {},
     "output_type": "display_data"
    },
    {
     "data": {
      "text/plain": [
       "CommitInfo(commit_url='https://huggingface.co/datasets/hotchpotch/jaqket_cc/commit/dec4cb9e72e14f60bb07073a3dd576be6b01bc69', commit_message='Upload dataset', commit_description='', oid='dec4cb9e72e14f60bb07073a3dd576be6b01bc69', pr_url=None, pr_revision=None, pr_num=None)"
      ]
     },
     "execution_count": 8,
     "metadata": {},
     "output_type": "execute_result"
    }
   ],
   "source": [
    "# ds.push_to_hub(\"hotchpotch/jaqket_cc\", data_dir=\"v2\")"
   ]
  },
  {
   "cell_type": "code",
   "execution_count": 10,
   "metadata": {},
   "outputs": [
    {
     "data": {
      "text/plain": [
       "{'qid': 'QA20CAPR-0202',\n",
       " 'question': '変わり種として、ネコが務めたり、タレントが1日だけ務めたりすることもある、鉄道駅における最高責任者のことを何というでしょう?',\n",
       " 'answers': ['駅長'],\n",
       " 'competition': '第1回AI王',\n",
       " 'timestamp': '2019/12/25',\n",
       " 'section': '開発データ問題 (dev1)',\n",
       " 'original_question': '変わり種として、ネコが務めたり、タレントが１日だけ務めたりすることもある、鉄道駅における最高責任者のことを何というでしょう？',\n",
       " 'original_answer': '駅長',\n",
       " 'original_additional_info': '',\n",
       " 'number': '202'}"
      ]
     },
     "execution_count": 10,
     "metadata": {},
     "output_type": "execute_result"
    }
   ],
   "source": [
    "ds[\"aio_01_dev\"][100]"
   ]
  },
  {
   "cell_type": "code",
   "execution_count": 12,
   "metadata": {},
   "outputs": [
    {
     "data": {
      "application/vnd.jupyter.widget-view+json": {
       "model_id": "0056deb978ce41f9b11c5ed170d710d0",
       "version_major": 2,
       "version_minor": 0
      },
      "text/plain": [
       "Downloading data:   0%|          | 0.00/475k [00:00<?, ?B/s]"
      ]
     },
     "metadata": {},
     "output_type": "display_data"
    },
    {
     "data": {
      "application/vnd.jupyter.widget-view+json": {
       "model_id": "68443db3bbc543c39efa06ecd7c94f1e",
       "version_major": 2,
       "version_minor": 0
      },
      "text/plain": [
       "Downloading data:   0%|          | 0.00/464k [00:00<?, ?B/s]"
      ]
     },
     "metadata": {},
     "output_type": "display_data"
    },
    {
     "data": {
      "application/vnd.jupyter.widget-view+json": {
       "model_id": "b51a1674045647e480ac9ec057b3a6ed",
       "version_major": 2,
       "version_minor": 0
      },
      "text/plain": [
       "Downloading data:   0%|          | 0.00/151k [00:00<?, ?B/s]"
      ]
     },
     "metadata": {},
     "output_type": "display_data"
    },
    {
     "data": {
      "application/vnd.jupyter.widget-view+json": {
       "model_id": "d0b78cc58e6f447eb83c37e4469d737e",
       "version_major": 2,
       "version_minor": 0
      },
      "text/plain": [
       "Generating aio_01_test split:   0%|          | 0/2000 [00:00<?, ? examples/s]"
      ]
     },
     "metadata": {},
     "output_type": "display_data"
    },
    {
     "data": {
      "application/vnd.jupyter.widget-view+json": {
       "model_id": "0ebf8f63d3c24cf087d4a07791021a62",
       "version_major": 2,
       "version_minor": 0
      },
      "text/plain": [
       "Generating aio_01_dev split:   0%|          | 0/1992 [00:00<?, ? examples/s]"
      ]
     },
     "metadata": {},
     "output_type": "display_data"
    },
    {
     "data": {
      "application/vnd.jupyter.widget-view+json": {
       "model_id": "dd145ad068ef42afaee56347cfd28521",
       "version_major": 2,
       "version_minor": 0
      },
      "text/plain": [
       "Generating aio_01_unused split:   0%|          | 0/608 [00:00<?, ? examples/s]"
      ]
     },
     "metadata": {},
     "output_type": "display_data"
    },
    {
     "data": {
      "text/plain": [
       "{'qid': 'QA20CAPR-0002',\n",
       " 'question': '明治時代に西洋から伝わった「テーブル・ターニング」に起源を持つ占いの一種で、50音表などを記入した紙を置き、参加者全員の人差し指をコインに置いて行うのは何でしょう?',\n",
       " 'answers': ['コックリさん'],\n",
       " 'competition': '第1回AI王',\n",
       " 'timestamp': '2019/12/25',\n",
       " 'section': '開発データ問題 (dev1)',\n",
       " 'original_question': '明治時代に西洋から伝わった「テーブル・ターニング」に起源を持つ占いの一種で、50音表などを記入した紙を置き、参加者全員の人差し指をコインに置いて行うのは何でしょう？',\n",
       " 'original_answer': 'コックリさん',\n",
       " 'original_additional_info': '',\n",
       " 'number': '2'}"
      ]
     },
     "execution_count": 12,
     "metadata": {},
     "output_type": "execute_result"
    }
   ],
   "source": [
    "from datasets import load_dataset\n",
    "\n",
    "\n",
    "ds = load_dataset(\"hotchpotch/jaqket_cc\")\n",
    "ds[\"aio_01_dev\"][0]"
   ]
  }
 ],
 "metadata": {
  "kernelspec": {
   "display_name": "py310",
   "language": "python",
   "name": "python3"
  },
  "language_info": {
   "codemirror_mode": {
    "name": "ipython",
    "version": 3
   },
   "file_extension": ".py",
   "mimetype": "text/x-python",
   "name": "python",
   "nbconvert_exporter": "python",
   "pygments_lexer": "ipython3",
   "version": "3.10.13"
  }
 },
 "nbformat": 4,
 "nbformat_minor": 2
}
